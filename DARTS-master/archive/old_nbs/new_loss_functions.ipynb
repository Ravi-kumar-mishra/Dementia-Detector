{
 "cells": [
  {
   "cell_type": "code",
   "execution_count": null,
   "metadata": {},
   "outputs": [],
   "source": [
    "def dice_loss_2(true1,scores1,mean, epsilon = 1e-4,p = 1):\n",
    "    N, C, sh1, sh2 = true1.size()\n",
    "    \n",
    "    true = []\n",
    "    scores = []\n",
    "    for c in range(N):\n",
    "        if not torch.sum(true1[c,1:,:,:])==0:\n",
    "            true.append(true1[c,:,:,:])\n",
    "            scores.append(scores1[c,:,:,:])\n",
    "    true = torch.stack(true)\n",
    "    scores = torch.stack(scores)\n",
    "    N, C, sh1, sh2 = true.size()\n",
    "    \n",
    "    \n",
    "    preds = F.softmax(scores)\n",
    "    true = true.view(N, C, -1)\n",
    "    preds = preds.view(N, C, -1)\n",
    "    wts = torch.sum(true, dim = 2) + epsilon\n",
    "    mean = 1/torch.pow(mean,p)\n",
    "    wts[:,:] = mean[None].repeat(N,1)\n",
    "    wts = wts/(torch.sum(wts,dim = 1)[:,None])\n",
    "    prod = torch.sum(true*preds,dim = 2)\n",
    "    sum_tnp = torch.sum(true + preds, dim = 2)\n",
    "    num = torch.sum(wts * prod, dim = 1)\n",
    "    denom = torch.sum(wts * sum_tnp, dim = 1) + epsilon\n",
    "    loss = 1 - 2*(num/denom)\n",
    "    return torch.mean(loss)"
   ]
  },
  {
   "cell_type": "code",
   "execution_count": null,
   "metadata": {},
   "outputs": [],
   "source": [
    "def dice_score(true1,scores1, epsilon = 1e-7):\n",
    "    N ,C, sh1, sh2 = true1.size()\n",
    "    true = []\n",
    "    scores = []\n",
    "    for c in range(N):\n",
    "        if not torch.sum(true1[c,1:,:,:])==0:\n",
    "            true.append(true1[c,:,:,:])\n",
    "            scores.append(scores1[c,:,:,:])\n",
    "    true = torch.stack(true)\n",
    "    scores = torch.stack(scores)\n",
    "    N, C, sh1, sh2 = true.size()\n",
    "    \n",
    "    true = true.view(N,C,-1)\n",
    "    preds = F.softmax(scores)\n",
    "    pred_class = (torch.max(preds, dim = 1)[1]).view(N,-1)\n",
    "    class_score = [0]*46\n",
    "    for i in range(46):\n",
    "        class_score[i] = (pred_class == i).data.type(torch.cuda.FloatTensor)\n",
    "    true = true.data.type(torch.cuda.FloatTensor)\n",
    "    def numerator(truth,pred, idx):\n",
    "        return(torch.sum(truth[:,idx,:] * pred,dim = 1)) + epsilon/2\n",
    "    def denominator(truth,pred,idx):\n",
    "        return(torch.sum(truth[:,idx,:]+pred,dim = 1)) + epsilon\n",
    "    dice_class_score = [0]*46\n",
    "    for i in range(46):\n",
    "        dice_class_score[i] = torch.mean(2*(numerator(true,class_score[i],i))/(denominator(true,class_score[i],i)))\n",
    "    return dice_class_score\n",
    "    "
   ]
  }
 ],
 "metadata": {
  "kernelspec": {
   "display_name": "Python 3",
   "language": "python",
   "name": "python3"
  },
  "language_info": {
   "codemirror_mode": {
    "name": "ipython",
    "version": 3
   },
   "file_extension": ".py",
   "mimetype": "text/x-python",
   "name": "python",
   "nbconvert_exporter": "python",
   "pygments_lexer": "ipython3",
   "version": "3.6.4"
  }
 },
 "nbformat": 4,
 "nbformat_minor": 2
}
