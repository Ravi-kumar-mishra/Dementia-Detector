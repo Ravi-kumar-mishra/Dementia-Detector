{
 "cells": [
  {
   "cell_type": "code",
   "execution_count": 1,
   "metadata": {},
   "outputs": [],
   "source": [
    "import torch\n",
    "import torch.nn as nn\n",
    "from torch.autograd import Variable\n",
    "import torch.optim as optim\n",
    "import torchvision\n",
    "from torchvision import datasets, models\n",
    "from torchvision import transforms as T\n",
    "from torch.utils.data import DataLoader, Dataset\n",
    "import numpy as np\n",
    "import matplotlib.pyplot as plt\n",
    "import os\n",
    "import time\n",
    "import pandas as pd\n",
    "from skimage import io, transform\n",
    "import matplotlib.image as mpimg\n",
    "from PIL import Image\n",
    "from sklearn.metrics import roc_auc_score\n",
    "import torch.nn.functional as F\n",
    "import scipy\n",
    "import random\n",
    "import pickle\n",
    "import scipy.io as sio\n",
    "\n",
    "import warnings\n",
    "warnings.filterwarnings(\"ignore\")\n",
    "%matplotlib inline\n",
    "plt.ion()\n",
    "\n",
    "from torch.utils.data import Dataset, DataLoader\n",
    "import pandas as pd\n",
    "import os\n",
    "from skimage import io\n",
    "import torch\n",
    "from torchvision import transforms\n",
    "import torchvision\n",
    "from skimage import color\n",
    "from torch.optim import lr_scheduler\n",
    "from torchvision.utils import make_grid\n",
    "\n",
    "\n",
    "\n",
    "import nibabel"
   ]
  },
  {
   "cell_type": "code",
   "execution_count": 2,
   "metadata": {},
   "outputs": [],
   "source": [
    "import pickle\n",
    "def pickling(file,path):\n",
    "    pickle.dump(file,open(path,'wb'))\n",
    "def unpickling(path):\n",
    "    file_return=pickle.load(open(path,'rb'))\n",
    "    return file_return"
   ]
  },
  {
   "cell_type": "code",
   "execution_count": 3,
   "metadata": {},
   "outputs": [],
   "source": [
    "available_segments = [  0,   2,   3,   4,   5,   7,   8,  10,  11,  12,  13,  14,  15,\n",
    "        16,  17,  18,  24,  26,  28,  30,  31,  41,  42,  43,  44,  46,\n",
    "        47,  49,  50,  51,  52,  53,  54,  58,  60,  62,  63,  72,  77,\n",
    "        80,  85, 251, 252, 253, 254, 255]"
   ]
  },
  {
   "cell_type": "code",
   "execution_count": 4,
   "metadata": {},
   "outputs": [],
   "source": [
    "# available_segments_req = [0,2,3,41,42]\n",
    "# available_segments_req_index = [0,1,2,21,22]"
   ]
  },
  {
   "cell_type": "code",
   "execution_count": 5,
   "metadata": {},
   "outputs": [],
   "source": [
    "class BrainImages(Dataset):\n",
    "    def __init__(self, image_dir, label_dir, train_data = False, flipping = True, rotation = True, translation = True):\n",
    "        \n",
    "        self.image_dir = image_dir\n",
    "        self.label_dir = label_dir\n",
    "        self.flipping = flipping\n",
    "        self.rotation = rotation\n",
    "        self.translation = translation\n",
    "        self.train_data = train_data\n",
    "\n",
    "    def __len__(self):\n",
    "        return len(self.image_dir)\n",
    "\n",
    "    def __getitem__(self,idx):\n",
    "        image_path = \"/gpfs/data/\"+self.image_dir[idx]\n",
    "        aseg_path = \"/gpfs/data/\"+self.label_dir[idx]\n",
    "        \n",
    "        img_orig = nibabel.freesurfer.mghformat.MGHImage.from_filename(image_path)\n",
    "        image = img_orig.get_data().astype(np.float64)\n",
    "        aseg_img = nibabel.freesurfer.mghformat.MGHImage.from_filename(aseg_path)\n",
    "        aseg_img = aseg_img.get_data().astype(np.float64)\n",
    "\n",
    "        flip = random.random() > 0.5\n",
    "        angle = random.uniform(-5,5)\n",
    "        dx = np.round(random.uniform(-10,10))\n",
    "        dy = np.round(random.uniform(-10,10))\n",
    "        \n",
    "        im = Image.fromarray(image[0])\n",
    "        target = Image.fromarray(aseg_img[0])\n",
    "        if self.train_data:\n",
    "            if self.flipping and flip:\n",
    "                im = im.transpose(0)\n",
    "                target = target.transpose(0)\n",
    "            if self.rotation:\n",
    "                im = im.rotate(angle)\n",
    "                target = target.rotate(angle)\n",
    "            if self.translation:\n",
    "                im = im.transform((256,256),0, (1,0,dx,0,1,dy))\n",
    "                target = target.transform((256,256),0,(1,0,dx,0,1,dy))\n",
    "                \n",
    "        im = torch.from_numpy(np.array(im, np.float64, copy=False).reshape((1,256,256)))/255\n",
    "        target = np.array(target, np.float64, copy=False)\n",
    "        target_label = np.zeros((6,256,256))\n",
    "        for i,a in enumerate(available_segments):\n",
    "            temp = (target==a).astype(int)\n",
    "            if i in [0,1,2,21,22]:\n",
    "                target_label[[0,1,2,21,22].index(i),:,:] = temp\n",
    "            else:\n",
    "                target_label[5,:,:] = target_label[5,:,:] + temp\n",
    "        target_label[5,:,:] = (target_label[5,:,:]>=1).astype(int) \n",
    "#        print(target_label.shape)\n",
    "        target_label = torch.from_numpy(target_label)\n",
    "        sample = {'x':im,'y':target_label} \n",
    "        return sample"
   ]
  },
  {
   "cell_type": "code",
   "execution_count": 6,
   "metadata": {},
   "outputs": [],
   "source": [
    "# # torch.from_numpy()\n",
    "# train_file_names = unpickling(\"/scratch/ark576/train_file_names\")\n",
    "# train_label_names = unpickling(\"/scratch/ark576/train_label_names\")\n",
    "# rand1 = np.arange(len(train_file_names))\n",
    "# np.random.shuffle(rand1)\n",
    "# rand1 = rand1[:1000]\n",
    "\n",
    "# val_file_names = unpickling(\"/scratch/ark576/val_file_names\")\n",
    "# val_label_names = unpickling(\"/scratch/ark576/val_label_names\")\n",
    "# rand2 = np.arange(len(val_file_names))\n",
    "# np.random.shuffle(rand2)\n",
    "# rand2 = rand2[:250]\n",
    "\n",
    "# test_file_names = unpickling(\"/scratch/ark576/test_file_names\")\n",
    "# test_label_names = unpickling(\"/scratch/ark576/test_label_names\")\n",
    "# rand3 = np.arange(len(test_file_names))\n",
    "# np.random.shuffle(rand3)\n",
    "# rand3 = rand3[:3]\n",
    "\n",
    "\n"
   ]
  },
  {
   "cell_type": "code",
   "execution_count": 7,
   "metadata": {},
   "outputs": [],
   "source": [
    "file_names = pd.read_csv(\"all_complete_path.csv\")"
   ]
  },
  {
   "cell_type": "code",
   "execution_count": 8,
   "metadata": {},
   "outputs": [
    {
     "data": {
      "text/html": [
       "<div>\n",
       "<style scoped>\n",
       "    .dataframe tbody tr th:only-of-type {\n",
       "        vertical-align: middle;\n",
       "    }\n",
       "\n",
       "    .dataframe tbody tr th {\n",
       "        vertical-align: top;\n",
       "    }\n",
       "\n",
       "    .dataframe thead th {\n",
       "        text-align: right;\n",
       "    }\n",
       "</style>\n",
       "<table border=\"1\" class=\"dataframe\">\n",
       "  <thead>\n",
       "    <tr style=\"text-align: right;\">\n",
       "      <th></th>\n",
       "      <th>left_to_right_raw</th>\n",
       "      <th>left_to_right_segmented</th>\n",
       "      <th>top_to_bottom_raw</th>\n",
       "      <th>top_to_bottom_segmented</th>\n",
       "      <th>back_to_front_raw</th>\n",
       "      <th>back_to_front_segmented</th>\n",
       "    </tr>\n",
       "  </thead>\n",
       "  <tbody>\n",
       "    <tr>\n",
       "      <th>0</th>\n",
       "      <td>/cbi/hcp/hcp_seg/aseg_all_slices/left_to_right...</td>\n",
       "      <td>/cbi/hcp/hcp_seg/aseg_all_slices/left_to_right...</td>\n",
       "      <td>/cbi/hcp/hcp_seg/aseg_all_slices/top_to_bottom...</td>\n",
       "      <td>/cbi/hcp/hcp_seg/aseg_all_slices/top_to_bottom...</td>\n",
       "      <td>/cbi/hcp/hcp_seg/aseg_all_slices/back_to_front...</td>\n",
       "      <td>/cbi/hcp/hcp_seg/aseg_all_slices/back_to_front...</td>\n",
       "    </tr>\n",
       "    <tr>\n",
       "      <th>1</th>\n",
       "      <td>/cbi/hcp/hcp_seg/aseg_all_slices/left_to_right...</td>\n",
       "      <td>/cbi/hcp/hcp_seg/aseg_all_slices/left_to_right...</td>\n",
       "      <td>/cbi/hcp/hcp_seg/aseg_all_slices/top_to_bottom...</td>\n",
       "      <td>/cbi/hcp/hcp_seg/aseg_all_slices/top_to_bottom...</td>\n",
       "      <td>/cbi/hcp/hcp_seg/aseg_all_slices/back_to_front...</td>\n",
       "      <td>/cbi/hcp/hcp_seg/aseg_all_slices/back_to_front...</td>\n",
       "    </tr>\n",
       "    <tr>\n",
       "      <th>2</th>\n",
       "      <td>/cbi/hcp/hcp_seg/aseg_all_slices/left_to_right...</td>\n",
       "      <td>/cbi/hcp/hcp_seg/aseg_all_slices/left_to_right...</td>\n",
       "      <td>/cbi/hcp/hcp_seg/aseg_all_slices/top_to_bottom...</td>\n",
       "      <td>/cbi/hcp/hcp_seg/aseg_all_slices/top_to_bottom...</td>\n",
       "      <td>/cbi/hcp/hcp_seg/aseg_all_slices/back_to_front...</td>\n",
       "      <td>/cbi/hcp/hcp_seg/aseg_all_slices/back_to_front...</td>\n",
       "    </tr>\n",
       "    <tr>\n",
       "      <th>3</th>\n",
       "      <td>/cbi/hcp/hcp_seg/aseg_all_slices/left_to_right...</td>\n",
       "      <td>/cbi/hcp/hcp_seg/aseg_all_slices/left_to_right...</td>\n",
       "      <td>/cbi/hcp/hcp_seg/aseg_all_slices/top_to_bottom...</td>\n",
       "      <td>/cbi/hcp/hcp_seg/aseg_all_slices/top_to_bottom...</td>\n",
       "      <td>/cbi/hcp/hcp_seg/aseg_all_slices/back_to_front...</td>\n",
       "      <td>/cbi/hcp/hcp_seg/aseg_all_slices/back_to_front...</td>\n",
       "    </tr>\n",
       "    <tr>\n",
       "      <th>4</th>\n",
       "      <td>/cbi/hcp/hcp_seg/aseg_all_slices/left_to_right...</td>\n",
       "      <td>/cbi/hcp/hcp_seg/aseg_all_slices/left_to_right...</td>\n",
       "      <td>/cbi/hcp/hcp_seg/aseg_all_slices/top_to_bottom...</td>\n",
       "      <td>/cbi/hcp/hcp_seg/aseg_all_slices/top_to_bottom...</td>\n",
       "      <td>/cbi/hcp/hcp_seg/aseg_all_slices/back_to_front...</td>\n",
       "      <td>/cbi/hcp/hcp_seg/aseg_all_slices/back_to_front...</td>\n",
       "    </tr>\n",
       "  </tbody>\n",
       "</table>\n",
       "</div>"
      ],
      "text/plain": [
       "                                   left_to_right_raw  \\\n",
       "0  /cbi/hcp/hcp_seg/aseg_all_slices/left_to_right...   \n",
       "1  /cbi/hcp/hcp_seg/aseg_all_slices/left_to_right...   \n",
       "2  /cbi/hcp/hcp_seg/aseg_all_slices/left_to_right...   \n",
       "3  /cbi/hcp/hcp_seg/aseg_all_slices/left_to_right...   \n",
       "4  /cbi/hcp/hcp_seg/aseg_all_slices/left_to_right...   \n",
       "\n",
       "                             left_to_right_segmented  \\\n",
       "0  /cbi/hcp/hcp_seg/aseg_all_slices/left_to_right...   \n",
       "1  /cbi/hcp/hcp_seg/aseg_all_slices/left_to_right...   \n",
       "2  /cbi/hcp/hcp_seg/aseg_all_slices/left_to_right...   \n",
       "3  /cbi/hcp/hcp_seg/aseg_all_slices/left_to_right...   \n",
       "4  /cbi/hcp/hcp_seg/aseg_all_slices/left_to_right...   \n",
       "\n",
       "                                   top_to_bottom_raw  \\\n",
       "0  /cbi/hcp/hcp_seg/aseg_all_slices/top_to_bottom...   \n",
       "1  /cbi/hcp/hcp_seg/aseg_all_slices/top_to_bottom...   \n",
       "2  /cbi/hcp/hcp_seg/aseg_all_slices/top_to_bottom...   \n",
       "3  /cbi/hcp/hcp_seg/aseg_all_slices/top_to_bottom...   \n",
       "4  /cbi/hcp/hcp_seg/aseg_all_slices/top_to_bottom...   \n",
       "\n",
       "                             top_to_bottom_segmented  \\\n",
       "0  /cbi/hcp/hcp_seg/aseg_all_slices/top_to_bottom...   \n",
       "1  /cbi/hcp/hcp_seg/aseg_all_slices/top_to_bottom...   \n",
       "2  /cbi/hcp/hcp_seg/aseg_all_slices/top_to_bottom...   \n",
       "3  /cbi/hcp/hcp_seg/aseg_all_slices/top_to_bottom...   \n",
       "4  /cbi/hcp/hcp_seg/aseg_all_slices/top_to_bottom...   \n",
       "\n",
       "                                   back_to_front_raw  \\\n",
       "0  /cbi/hcp/hcp_seg/aseg_all_slices/back_to_front...   \n",
       "1  /cbi/hcp/hcp_seg/aseg_all_slices/back_to_front...   \n",
       "2  /cbi/hcp/hcp_seg/aseg_all_slices/back_to_front...   \n",
       "3  /cbi/hcp/hcp_seg/aseg_all_slices/back_to_front...   \n",
       "4  /cbi/hcp/hcp_seg/aseg_all_slices/back_to_front...   \n",
       "\n",
       "                             back_to_front_segmented  \n",
       "0  /cbi/hcp/hcp_seg/aseg_all_slices/back_to_front...  \n",
       "1  /cbi/hcp/hcp_seg/aseg_all_slices/back_to_front...  \n",
       "2  /cbi/hcp/hcp_seg/aseg_all_slices/back_to_front...  \n",
       "3  /cbi/hcp/hcp_seg/aseg_all_slices/back_to_front...  \n",
       "4  /cbi/hcp/hcp_seg/aseg_all_slices/back_to_front...  "
      ]
     },
     "execution_count": 8,
     "metadata": {},
     "output_type": "execute_result"
    }
   ],
   "source": [
    "file_names.head()"
   ]
  },
  {
   "cell_type": "code",
   "execution_count": 9,
   "metadata": {},
   "outputs": [],
   "source": [
    "train_subjects = unpickling(\"train_subject_index\")\n",
    "val_subjects = unpickling(\"val_subject_index\")\n",
    "test_subjects = unpickling(\"test_subject_index\")"
   ]
  },
  {
   "cell_type": "code",
   "execution_count": 10,
   "metadata": {},
   "outputs": [],
   "source": [
    "full_train_raw = list(file_names.iloc[train_subjects,2])\n",
    "full_train_seg = list(file_names.iloc[train_subjects,3])\n",
    "\n",
    "full_val_raw = list(file_names.iloc[val_subjects,2])\n",
    "full_val_seg = list(file_names.iloc[val_subjects,3])\n",
    "\n",
    "full_test_raw = list(file_names.iloc[test_subjects,2])\n",
    "full_test_seg = list(file_names.iloc[test_subjects,3])"
   ]
  },
  {
   "cell_type": "code",
   "execution_count": 11,
   "metadata": {},
   "outputs": [],
   "source": [
    "rand1 = np.arange(len(full_train_raw))\n",
    "np.random.shuffle(rand1)\n",
    "rand1 = rand1[:5000]\n",
    "\n",
    "rand2 = np.arange(len(val_subjects))\n",
    "np.random.shuffle(rand2)\n",
    "rand2 = rand2[:500]\n",
    "\n",
    "rand3 = np.arange(len(test_subjects))\n",
    "np.random.shuffle(rand3)\n",
    "rand3 = rand3[:3]"
   ]
  },
  {
   "cell_type": "code",
   "execution_count": 12,
   "metadata": {},
   "outputs": [],
   "source": [
    "transformed_dataset = {'train': BrainImages(np.array(full_train_raw)[rand1],np.array(full_train_seg)[rand1], train_data= True, flipping=False),\n",
    "                       'validate': BrainImages(np.array(full_val_raw)[rand2],np.array(full_val_seg)[rand2]),\n",
    "                       'test': BrainImages(np.array(full_test_raw)[rand3],np.array(full_test_seg)[rand3])\n",
    "                                               }\n",
    "\n",
    "dataloader = {x: DataLoader(transformed_dataset[x], batch_size=30,\n",
    "                        shuffle=True, num_workers=0) for x in ['train', 'validate','test']}\n",
    "data_sizes ={x: len(transformed_dataset[x]) for x in ['train', 'validate','test']}"
   ]
  },
  {
   "cell_type": "code",
   "execution_count": 13,
   "metadata": {},
   "outputs": [],
   "source": [
    "inputs = next(iter(dataloader['train']))"
   ]
  },
  {
   "cell_type": "code",
   "execution_count": 14,
   "metadata": {
    "scrolled": false
   },
   "outputs": [
    {
     "data": {
      "image/png": "[encoded data removed]",
      "text/plain": [
       "<matplotlib.figure.Figure at 0x200102eba630>"
      ]
     },
     "metadata": {},
     "output_type": "display_data"
    },
    {
     "data": {
      "image/png": "[encoded data removed]",
      "text/plain": [
       "<matplotlib.figure.Figure at 0x200122dbeb38>"
      ]
     },
     "metadata": {},
     "output_type": "display_data"
    },
    {
     "data": {
      "image/png": "[encoded data removed]",
      "text/plain": [
       "<matplotlib.figure.Figure at 0x200122e3c908>"
      ]
     },
     "metadata": {},
     "output_type": "display_data"
    },
    {
     "data": {
      "image/png": "[encoded data removed]",
      "text/plain": [
       "<matplotlib.figure.Figure at 0x200122ea9cf8>"
      ]
     },
     "metadata": {},
     "output_type": "display_data"
    },
    {
     "data": {
      "image/png": "[encoded data removed]",
      "text/plain": [
       "<matplotlib.figure.Figure at 0x200122f08c50>"
      ]
     },
     "metadata": {},
     "output_type": "display_data"
    },
    {
     "data": {
      "image/png": "[encoded data removed]",
      "text/plain": [
       "<matplotlib.figure.Figure at 0x200122e83a20>"
      ]
     },
     "metadata": {},
     "output_type": "display_data"
    },
    {
     "data": {
      "image/png": "[encoded data removed]",
      "text/plain": [
       "<matplotlib.figure.Figure at 0x200102ea44a8>"
      ]
     },
     "metadata": {},
     "output_type": "display_data"
    }
   ],
   "source": [
    "m = 0\n",
    "plt.imshow(inputs['x'][m,0,:,:].numpy())\n",
    "plt.show()\n",
    "for i in range(6):\n",
    "    plt.imshow(inputs['y'][m,i,:,:].numpy())\n",
    "    plt.show()"
   ]
  },
  {
   "cell_type": "code",
   "execution_count": 15,
   "metadata": {},
   "outputs": [],
   "source": [
    "class Downsample_block(nn.Module):\n",
    "    def __init__(self, in_channels, out_channels):\n",
    "        super(Downsample_block, self).__init__()\n",
    "        self.conv1 = nn.Conv2d(in_channels, out_channels, 3, padding=1)\n",
    "        self.bn1 = nn.BatchNorm2d(out_channels)\n",
    "        self.conv2 = nn.Conv2d(out_channels, out_channels, 3, padding=1)\n",
    "        self.bn2 = nn.BatchNorm2d(out_channels)\n",
    "    \n",
    "    def forward(self,x):\n",
    "        x = F.relu(self.bn1(self.conv1(x)))\n",
    "        y = F.relu(self.bn2(self.conv2(x)))\n",
    "        x = F.max_pool2d(y, 2,stride = 2)\n",
    "        \n",
    "        return x, y"
   ]
  },
  {
   "cell_type": "code",
   "execution_count": 16,
   "metadata": {},
   "outputs": [],
   "source": [
    "class Upsample_block(nn.Module):\n",
    "    def __init__(self,in_channels, out_channels):\n",
    "        super(Upsample_block, self).__init__()\n",
    "        self.transconv = nn.ConvTranspose2d(in_channels, out_channels, 4, padding = 1, stride = 2)\n",
    "        self.conv1 = nn.Conv2d(in_channels, out_channels, 3, padding = 1)\n",
    "        self.bn1 = nn.BatchNorm2d(out_channels)\n",
    "        self.conv2 = nn.Conv2d(out_channels, out_channels, 3, padding = 1)\n",
    "        self.bn2 = nn.BatchNorm2d(out_channels)\n",
    "        \n",
    "    def forward(self,x, y):\n",
    "        x = self.transconv(x)\n",
    "        x = torch.cat((x,y),dim = 1)\n",
    "        x = F.relu(self.bn1(self.conv1(x)))\n",
    "        x = F.relu(self.bn2(self.conv2(x)))\n",
    "        \n",
    "        return x"
   ]
  },
  {
   "cell_type": "code",
   "execution_count": 17,
   "metadata": {},
   "outputs": [],
   "source": [
    "class Unet(nn.Module):\n",
    "    def __init__(self):\n",
    "        super(Unet, self).__init__()\n",
    "        self.down1 = Downsample_block(1,64)\n",
    "        self.down2 = Downsample_block(64,128)\n",
    "        self.down3 = Downsample_block(128,256)\n",
    "        self.down4 = Downsample_block(256,512)\n",
    "        self.conv1 = nn.Conv2d(512,1024, 3, padding=1)\n",
    "        self.bn1 = nn.BatchNorm2d(1024)\n",
    "        self.conv2 = nn.Conv2d(1024,1024,3, padding = 1)\n",
    "        self.bn2 = nn.BatchNorm2d(1024)\n",
    "        self.up4 = Upsample_block(1024,512)\n",
    "        self.up3 = Upsample_block(512,256)\n",
    "        self.up2 = Upsample_block(256,128)\n",
    "        self.up1 = Upsample_block(128,64)\n",
    "        self.outconv = nn.Conv2d(64,6, 1)\n",
    "        \n",
    "    def forward(self,x):\n",
    "        x, y1 = self.down1(x)\n",
    "        x, y2 = self.down2(x)\n",
    "        x, y3 = self.down3(x)\n",
    "        x, y4 = self.down4(x)\n",
    "        x = F.dropout2d(F.relu(self.bn1(self.conv1(x))))\n",
    "        x = F.dropout2d(F.relu(self.bn2(self.conv2(x))))\n",
    "        x = self.up4(x, y4)\n",
    "        x = self.up3(x, y3)\n",
    "        x = self.up2(x, y2)\n",
    "        x = self.up1(x, y1)\n",
    "        x = self.outconv(x)\n",
    "        \n",
    "        return x"
   ]
  },
  {
   "cell_type": "code",
   "execution_count": 18,
   "metadata": {},
   "outputs": [],
   "source": [
    "voxel_count = pd.read_csv('/gpfs/data/cbi/hcp/hcp_seg/brain_segmentation/segment_counts.csv')"
   ]
  },
  {
   "cell_type": "code",
   "execution_count": 19,
   "metadata": {},
   "outputs": [],
   "source": [
    "wts_num1 = np.mean(np.array(voxel_count.iloc[:,available_segments]),axis = 0)"
   ]
  },
  {
   "cell_type": "code",
   "execution_count": 20,
   "metadata": {},
   "outputs": [],
   "source": [
    "wts_num = list(wts_num1[[0,1,2,21,22]])\n",
    "wts_num.append(np.sum(wts_num1) - np.sum(wts_num))"
   ]
  },
  {
   "cell_type": "code",
   "execution_count": 21,
   "metadata": {},
   "outputs": [],
   "source": [
    "wts_torch = Variable(torch.from_numpy(np.array(wts_num))).cuda()"
   ]
  },
  {
   "cell_type": "code",
   "execution_count": 22,
   "metadata": {},
   "outputs": [
    {
     "data": {
      "text/plain": [
       "tensor(1.00000e+07 *\n",
       "       [ 1.5518,  0.0227,  0.0272,  0.0234,  0.0276,  0.0249], dtype=torch.float64, device='cuda:0')"
      ]
     },
     "execution_count": 22,
     "metadata": {},
     "output_type": "execute_result"
    }
   ],
   "source": [
    "wts_torch"
   ]
  },
  {
   "cell_type": "code",
   "execution_count": 29,
   "metadata": {},
   "outputs": [],
   "source": [
    "def dice_loss_2(true1,scores1,mean, epsilon = 1e-4,p = 1):\n",
    "    N, C, sh1, sh2 = true1.size()\n",
    "    \n",
    "    true = []\n",
    "    scores = []\n",
    "    for c in range(N):\n",
    "        if not torch.sum(true1[c,1:,:,:])==0:\n",
    "            true.append(true1[c,:,:,:])\n",
    "            scores.append(scores1[c,:,:,:])\n",
    "    try:\n",
    "        true = torch.stack(true)\n",
    "        scores = torch.stack(scores)\n",
    "    except:\n",
    "        return -1\n",
    "    N, C, sh1, sh2 = true.size()\n",
    "    \n",
    "    \n",
    "    preds = F.softmax(scores)\n",
    "    true = true.view(N, C, -1)\n",
    "    preds = preds.view(N, C, -1)\n",
    "    wts = torch.sum(true, dim = 2) + epsilon\n",
    "    mean = 1/torch.pow(mean,p)\n",
    "    wts[:,:] = mean[None].repeat(N,1)\n",
    "    wts = wts/(torch.sum(wts,dim = 1)[:,None])\n",
    "    prod = torch.sum(true*preds,dim = 2)\n",
    "    sum_tnp = torch.sum(true + preds, dim = 2)\n",
    "    num = torch.sum(wts * prod, dim = 1)\n",
    "    denom = torch.sum(wts * sum_tnp, dim = 1) + epsilon\n",
    "    loss = 1 - 2*(num/denom)\n",
    "    return torch.mean(loss)"
   ]
  },
  {
   "cell_type": "code",
   "execution_count": 30,
   "metadata": {},
   "outputs": [],
   "source": [
    "def dice_score(true1,scores1, epsilon = 1e-7):\n",
    "    N ,C, sh1, sh2 = true1.size()\n",
    "    true = []\n",
    "    scores = []\n",
    "    for c in range(N):\n",
    "        if not torch.sum(true1[c,1:,:,:])==0:\n",
    "            true.append(true1[c,:,:,:])\n",
    "            scores.append(scores1[c,:,:,:])\n",
    "    try:\n",
    "        true = torch.stack(true)\n",
    "        scores = torch.stack(scores)\n",
    "    except:\n",
    "        return 0\n",
    "    \n",
    "    N, C, sh1, sh2 = true.size()\n",
    "    \n",
    "    true = true.view(N,C,-1)\n",
    "    preds = F.softmax(scores)\n",
    "    pred_class = (torch.max(preds, dim = 1)[1]).view(N,-1)\n",
    "    class_score = [0]*6\n",
    "    for i in range(6):\n",
    "        class_score[i] = (pred_class == i).data.type(torch.cuda.FloatTensor)\n",
    "    true = true.data.type(torch.cuda.FloatTensor)\n",
    "    def numerator(truth,pred, idx):\n",
    "        return(torch.sum(truth[:,idx,:] * pred,dim = 1)) + epsilon/2\n",
    "    def denominator(truth,pred,idx):\n",
    "        return(torch.sum(truth[:,idx,:]+pred,dim = 1)) + epsilon\n",
    "    dice_class_score = [0]*6\n",
    "    for i in range(6):\n",
    "        dice_class_score[i] = torch.mean(2*(numerator(true,class_score[i],i))/(denominator(true,class_score[i],i)))\n",
    "    return dice_class_score\n",
    "    "
   ]
  },
  {
   "cell_type": "code",
   "execution_count": 31,
   "metadata": {},
   "outputs": [],
   "source": [
    "import time\n",
    "def train_model(model, optimizer,dataloader, data_sizes, batch_size, num_epochs = 100, verbose = False):\n",
    "    since = time.time()\n",
    "    best_loss = np.inf\n",
    "    loss_hist = {'train':[],'validate':[]}\n",
    "    dice_scores_of_all_class = [{'train':[],'validate':[]} for i in range(6)]    \n",
    "    for i in range(num_epochs):\n",
    "        for phase in ['train', 'validate']:\n",
    "            running_loss = 0\n",
    "            run_class_scores = [0]*6\n",
    "            if phase == 'train':\n",
    "                model.train(True)\n",
    "            else:\n",
    "                model.train(False)\n",
    "    \n",
    "            for data in dataloader[phase]:\n",
    "                optimizer.zero_grad()\n",
    "                x = data['x']\n",
    "                y = data['y']\n",
    "                x = Variable(x).type(torch.FloatTensor).cuda()\n",
    "                y = Variable(y).type(torch.FloatTensor).cuda()\n",
    "                \n",
    "                output = model(x)\n",
    "                loss = dice_loss_2(y, output,wts_torch)\n",
    "                if loss==-1:\n",
    "                    continue\n",
    "                if phase == 'train':\n",
    "                    loss.backward()\n",
    "                    optimizer.step()\n",
    "                running_loss += loss.data[0] * batch_size\n",
    "                dice_score_batch = dice_score(y,output)\n",
    "\n",
    "                for j in range(6):\n",
    "                    run_class_scores[j] = run_class_scores[j] + dice_score_batch[j] * batch_size\n",
    "            epoch_loss = running_loss/data_sizes[phase]\n",
    "            loss_hist[phase].append(epoch_loss.item()) \n",
    "            for j in range(6):\n",
    "                score = run_class_scores[j]/data_sizes[phase]\n",
    "                dice_scores_of_all_class[j][phase].append(score.to(torch.device(\"cpu\")).numpy())\n",
    "            if verbose or i%1 == 0:\n",
    "                print('Epoch: {}, Phase: {}, epoch loss: {:.4f}'.format(i,phase,epoch_loss))\n",
    "                print('-'*10)\n",
    "            \n",
    "        if phase == 'validate' and epoch_loss < best_loss:\n",
    "            best_loss = epoch_loss\n",
    "            best_model_wts = model.state_dict() \n",
    "        #print(i)\n",
    "    print('-'*50)    \n",
    "    time_elapsed = time.time() - since\n",
    "    print('Training complete in {:.0f}m {:.0f}s'.format(time_elapsed // 60, time_elapsed % 60))\n",
    "    print('Best val dice loss: {:4f}'.format(best_loss))\n",
    "    \n",
    "    model.load_state_dict(best_model_wts)\n",
    "    \n",
    "    return model, loss_hist, dice_scores_of_all_class"
   ]
  },
  {
   "cell_type": "code",
   "execution_count": 32,
   "metadata": {},
   "outputs": [],
   "source": [
    "model = Unet().cuda()\n",
    "model = nn.DataParallel(model)\n",
    "criterion = dice_loss_2\n",
    "\n",
    "optimizer = optim.Adam(model.parameters(),lr = 5e-4)\n",
    "#scheduler = lr_scheduler.StepLR(optimizer,step_size = 15)"
   ]
  },
  {
   "cell_type": "code",
   "execution_count": 33,
   "metadata": {
    "scrolled": false
   },
   "outputs": [
    {
     "name": "stdout",
     "output_type": "stream",
     "text": [
      "Epoch: 0, Phase: train, epoch loss: 0.5891\n",
      "----------\n",
      "Epoch: 0, Phase: validate, epoch loss: 0.3300\n",
      "----------\n",
      "Epoch: 1, Phase: train, epoch loss: 0.1691\n",
      "----------\n",
      "Epoch: 1, Phase: validate, epoch loss: 0.2034\n",
      "----------\n",
      "Epoch: 2, Phase: train, epoch loss: 0.1098\n",
      "----------\n",
      "Epoch: 2, Phase: validate, epoch loss: 0.1711\n",
      "----------\n",
      "Epoch: 3, Phase: train, epoch loss: 0.0887\n",
      "----------\n",
      "Epoch: 3, Phase: validate, epoch loss: 0.1167\n",
      "----------\n",
      "Epoch: 4, Phase: train, epoch loss: 0.0783\n",
      "----------\n",
      "Epoch: 4, Phase: validate, epoch loss: 0.3163\n",
      "----------\n",
      "Epoch: 5, Phase: train, epoch loss: 0.0741\n",
      "----------\n",
      "Epoch: 5, Phase: validate, epoch loss: 0.3632\n",
      "----------\n",
      "Epoch: 6, Phase: train, epoch loss: 0.0676\n",
      "----------\n",
      "Epoch: 6, Phase: validate, epoch loss: 0.2184\n",
      "----------\n",
      "Epoch: 7, Phase: train, epoch loss: 0.0676\n",
      "----------\n",
      "Epoch: 7, Phase: validate, epoch loss: 0.2773\n",
      "----------\n",
      "Epoch: 8, Phase: train, epoch loss: 0.0821\n",
      "----------\n",
      "Epoch: 8, Phase: validate, epoch loss: 0.0830\n",
      "----------\n",
      "Epoch: 9, Phase: train, epoch loss: 0.0637\n",
      "----------\n",
      "Epoch: 9, Phase: validate, epoch loss: 0.1166\n",
      "----------\n",
      "Epoch: 10, Phase: train, epoch loss: 0.0613\n",
      "----------\n",
      "Epoch: 10, Phase: validate, epoch loss: 0.2249\n",
      "----------\n",
      "--------------------------------------------------\n",
      "Training complete in 36m 60s\n",
      "Best val dice loss: 0.083009\n"
     ]
    }
   ],
   "source": [
    "model, loss_hist, dice_hist = train_model(model, optimizer,dataloader,data_sizes,30,\n",
    "                                                                num_epochs = 11, verbose = True)"
   ]
  },
  {
   "cell_type": "code",
   "execution_count": 51,
   "metadata": {},
   "outputs": [],
   "source": [
    "torch.save(model.state_dict(), \"semi_model2\")"
   ]
  },
  {
   "cell_type": "code",
   "execution_count": 35,
   "metadata": {},
   "outputs": [],
   "source": [
    "def visualize1(image):\n",
    "    p = F.softmax(image)\n",
    "    p_maxim = torch.max(p, dim=0)[1]\n",
    "    img = []\n",
    "    for seg in range(6):\n",
    "        masked = (p_maxim==seg).data.type(torch.cuda.FloatTensor)\n",
    "        img.append(masked)\n",
    "    #plt.title(title)\n",
    "    #plt.imshow(masked[:,:].cpu().numpy())\n",
    "    #print(torch.stack(img).size())\n",
    "    return torch.stack(img).resize(6,1,256,256).cpu()"
   ]
  },
  {
   "cell_type": "code",
   "execution_count": 36,
   "metadata": {},
   "outputs": [],
   "source": [
    "%matplotlib inline\n",
    "def show(img):\n",
    "    \n",
    "    npimg = img.numpy()\n",
    "    #print(npimg.shape)\n",
    "    plt.figure(figsize = (20,20))\n",
    "    plt.imshow(np.transpose(npimg, (1,2,0)), interpolation='nearest')\n",
    "    plt.show()"
   ]
  },
  {
   "cell_type": "code",
   "execution_count": 37,
   "metadata": {
    "scrolled": false
   },
   "outputs": [],
   "source": [
    "def visualize_few():\n",
    "    data = next(iter(dataloader[\"validate\"]))\n",
    "    model.train(False)\n",
    "    x = data['x']\n",
    "    y = data['y']\n",
    "    x = Variable(x).type(torch.FloatTensor).cuda()\n",
    "    y = Variable(y).type(torch.FloatTensor).cuda()\n",
    "                \n",
    "    output = model(x)\n",
    "    for i in range(11):\n",
    "        print('-'*100)\n",
    "        print('Ground Truth')\n",
    "        abc = data['y'][i,:,:,:]\n",
    "        bcd = abc.resize(6,1,256,256)\n",
    "        show(make_grid(bcd,padding=10,pad_value=1)) \n",
    "        print('-'*100)\n",
    "        print('Prediction')\n",
    "        show(make_grid(visualize1(output[i,:,:,:]),padding=10,pad_value=1))\n",
    "    \n",
    "    "
   ]
  },
  {
   "cell_type": "code",
   "execution_count": 38,
   "metadata": {
    "scrolled": false
   },
   "outputs": [
    {
     "name": "stdout",
     "output_type": "stream",
     "text": [
      "----------------------------------------------------------------------------------------------------\n",
      "Ground Truth\n"
     ]
    },
    {
     "data": {
      "image/png": "[encoded data removed]",
      "text/plain": [
       "<matplotlib.figure.Figure at 0x200122d8e048>"
      ]
     },
     "metadata": {},
     "output_type": "display_data"
    },
    {
     "name": "stdout",
     "output_type": "stream",
     "text": [
      "----------------------------------------------------------------------------------------------------\n",
      "Prediction\n"
     ]
    },
    {
     "data": {
      "image/png": "[encoded data removed]",
      "text/plain": [
       "<matplotlib.figure.Figure at 0x20012f600080>"
      ]
     },
     "metadata": {},
     "output_type": "display_data"
    },
    {
     "name": "stdout",
     "output_type": "stream",
     "text": [
      "----------------------------------------------------------------------------------------------------\n",
      "Ground Truth\n"
     ]
    },
    {
     "data": {
      "image/png": "[encoded data removed]",
      "text/plain": [
       "<matplotlib.figure.Figure at 0x200122d8eb70>"
      ]
     },
     "metadata": {},
     "output_type": "display_data"
    },
    {
     "name": "stdout",
     "output_type": "stream",
     "text": [
      "----------------------------------------------------------------------------------------------------\n",
      "Prediction\n"
     ]
    },
    {
     "data": {
      "image/png": "[encoded data removed]",
      "text/plain": [
       "<matplotlib.figure.Figure at 0x20012f6062e8>"
      ]
     },
     "metadata": {},
     "output_type": "display_data"
    },
    {
     "name": "stdout",
     "output_type": "stream",
     "text": [
      "----------------------------------------------------------------------------------------------------\n",
      "Ground Truth\n"
     ]
    },
    {
     "data": {
      "image/png": "[encoded data removed]",
      "text/plain": [
       "<matplotlib.figure.Figure at 0x20012fe9ae48>"
      ]
     },
     "metadata": {},
     "output_type": "display_data"
    },
    {
     "name": "stdout",
     "output_type": "stream",
     "text": [
      "----------------------------------------------------------------------------------------------------\n",
      "Prediction\n"
     ]
    },
    {
     "data": {
      "image/png": "[encoded data removed]",
      "text/plain": [
       "<matplotlib.figure.Figure at 0x200122d84b38>"
      ]
     },
     "metadata": {},
     "output_type": "display_data"
    },
    {
     "name": "stdout",
     "output_type": "stream",
     "text": [
      "----------------------------------------------------------------------------------------------------\n",
      "Ground Truth\n"
     ]
    },
    {
     "data": {
      "image/png": "[encoded data removed]",
      "text/plain": [
       "<matplotlib.figure.Figure at 0x200122eb7cf8>"
      ]
     },
     "metadata": {},
     "output_type": "display_data"
    },
    {
     "name": "stdout",
     "output_type": "stream",
     "text": [
      "----------------------------------------------------------------------------------------------------\n",
      "Prediction\n"
     ]
    },
    {
     "data": {
      "image/png": "[encoded data removed]",
      "text/plain": [
       "<matplotlib.figure.Figure at 0x20012feb99e8>"
      ]
     },
     "metadata": {},
     "output_type": "display_data"
    },
    {
     "name": "stdout",
     "output_type": "stream",
     "text": [
      "----------------------------------------------------------------------------------------------------\n",
      "Ground Truth\n"
     ]
    },
    {
     "data": {
      "image/png": "[encoded data removed]",
      "text/plain": [
       "<matplotlib.figure.Figure at 0x20012ff080b8>"
      ]
     },
     "metadata": {},
     "output_type": "display_data"
    },
    {
     "name": "stdout",
     "output_type": "stream",
     "text": [
      "----------------------------------------------------------------------------------------------------\n",
      "Prediction\n"
     ]
    },
    {
     "data": {
      "image/png": "[encoded data removed]",
      "text/plain": [
       "<matplotlib.figure.Figure at 0x20012ff5bd68>"
      ]
     },
     "metadata": {},
     "output_type": "display_data"
    },
    {
     "name": "stdout",
     "output_type": "stream",
     "text": [
      "----------------------------------------------------------------------------------------------------\n",
      "Ground Truth\n"
     ]
    },
    {
     "data": {
      "image/png": "[encoded data removed]",
      "text/plain": [
       "<matplotlib.figure.Figure at 0x20012ff97588>"
      ]
     },
     "metadata": {},
     "output_type": "display_data"
    },
    {
     "name": "stdout",
     "output_type": "stream",
     "text": [
      "----------------------------------------------------------------------------------------------------\n",
      "Prediction\n"
     ]
    },
    {
     "data": {
      "image/png": "[encoded data removed]",
      "text/plain": [
       "<matplotlib.figure.Figure at 0x20012ffc03c8>"
      ]
     },
     "metadata": {},
     "output_type": "display_data"
    },
    {
     "name": "stdout",
     "output_type": "stream",
     "text": [
      "----------------------------------------------------------------------------------------------------\n",
      "Ground Truth\n"
     ]
    },
    {
     "data": {
      "image/png": "[encoded data removed]",
      "text/plain": [
       "<matplotlib.figure.Figure at 0x20014be2db00>"
      ]
     },
     "metadata": {},
     "output_type": "display_data"
    },
    {
     "name": "stdout",
     "output_type": "stream",
     "text": [
      "----------------------------------------------------------------------------------------------------\n",
      "Prediction\n"
     ]
    },
    {
     "data": {
      "image/png": "[encoded data removed]",
      "text/plain": [
       "<matplotlib.figure.Figure at 0x20014beeceb8>"
      ]
     },
     "metadata": {},
     "output_type": "display_data"
    },
    {
     "name": "stdout",
     "output_type": "stream",
     "text": [
      "----------------------------------------------------------------------------------------------------\n",
      "Ground Truth\n"
     ]
    },
    {
     "data": {
      "image/png": "[encoded data removed]",
      "text/plain": [
       "<matplotlib.figure.Figure at 0x20014bef4ef0>"
      ]
     },
     "metadata": {},
     "output_type": "display_data"
    },
    {
     "name": "stdout",
     "output_type": "stream",
     "text": [
      "----------------------------------------------------------------------------------------------------\n",
      "Prediction\n"
     ]
    },
    {
     "data": {
      "image/png": "[encoded data removed]",
      "text/plain": [
       "<matplotlib.figure.Figure at 0x20014bf95588>"
      ]
     },
     "metadata": {},
     "output_type": "display_data"
    },
    {
     "name": "stdout",
     "output_type": "stream",
     "text": [
      "----------------------------------------------------------------------------------------------------\n",
      "Ground Truth\n"
     ]
    },
    {
     "data": {
      "image/png": "[encoded data removed]",
      "text/plain": [
       "<matplotlib.figure.Figure at 0x2002dae532b0>"
      ]
     },
     "metadata": {},
     "output_type": "display_data"
    },
    {
     "name": "stdout",
     "output_type": "stream",
     "text": [
      "----------------------------------------------------------------------------------------------------\n",
      "Prediction\n"
     ]
    },
    {
     "data": {
      "image/png": "[encoded data removed]",
      "text/plain": [
       "<matplotlib.figure.Figure at 0x2002daecd4a8>"
      ]
     },
     "metadata": {},
     "output_type": "display_data"
    },
    {
     "name": "stdout",
     "output_type": "stream",
     "text": [
      "----------------------------------------------------------------------------------------------------\n",
      "Ground Truth\n"
     ]
    },
    {
     "data": {
      "image/png": "[encoded data removed]",
      "text/plain": [
       "<matplotlib.figure.Figure at 0x2002daf2e4e0>"
      ]
     },
     "metadata": {},
     "output_type": "display_data"
    },
    {
     "name": "stdout",
     "output_type": "stream",
     "text": [
      "----------------------------------------------------------------------------------------------------\n",
      "Prediction\n"
     ]
    },
    {
     "data": {
      "image/png": "[encoded data removed]",
      "text/plain": [
       "<matplotlib.figure.Figure at 0x2002daebb828>"
      ]
     },
     "metadata": {},
     "output_type": "display_data"
    },
    {
     "name": "stdout",
     "output_type": "stream",
     "text": [
      "----------------------------------------------------------------------------------------------------\n",
      "Ground Truth\n"
     ]
    },
    {
     "data": {
      "image/png": "[encoded data removed]",
      "text/plain": [
       "<matplotlib.figure.Figure at 0x200122f21550>"
      ]
     },
     "metadata": {},
     "output_type": "display_data"
    },
    {
     "name": "stdout",
     "output_type": "stream",
     "text": [
      "----------------------------------------------------------------------------------------------------\n",
      "Prediction\n"
     ]
    },
    {
     "data": {
      "image/png": "[encoded data removed]",
      "text/plain": [
       "<matplotlib.figure.Figure at 0x2002daecd1d0>"
      ]
     },
     "metadata": {},
     "output_type": "display_data"
    }
   ],
   "source": [
    "visualize_few()"
   ]
  },
  {
   "cell_type": "code",
   "execution_count": 46,
   "metadata": {},
   "outputs": [],
   "source": [
    "names = []\n",
    "for i in range(11):\n",
    "    name = \"epoch\"+str(i)\n",
    "    names.append(name)"
   ]
  },
  {
   "cell_type": "code",
   "execution_count": 47,
   "metadata": {},
   "outputs": [],
   "source": [
    "train_dice_scores = pd.DataFrame(columns=names)\n",
    "val_dice_scores = pd.DataFrame(columns=names)"
   ]
  },
  {
   "cell_type": "code",
   "execution_count": 48,
   "metadata": {},
   "outputs": [],
   "source": [
    "for i in range(6):\n",
    "    class_i_train = dice_hist[i]['train']\n",
    "    class_i_val = dice_hist[i]['validate']\n",
    "    train_dice_scores.loc[i] = class_i_train\n",
    "    val_dice_scores.loc[i] = class_i_val"
   ]
  },
  {
   "cell_type": "code",
   "execution_count": 49,
   "metadata": {},
   "outputs": [
    {
     "data": {
      "text/html": [
       "<div>\n",
       "<style scoped>\n",
       "    .dataframe tbody tr th:only-of-type {\n",
       "        vertical-align: middle;\n",
       "    }\n",
       "\n",
       "    .dataframe tbody tr th {\n",
       "        vertical-align: top;\n",
       "    }\n",
       "\n",
       "    .dataframe thead th {\n",
       "        text-align: right;\n",
       "    }\n",
       "</style>\n",
       "<table border=\"1\" class=\"dataframe\">\n",
       "  <thead>\n",
       "    <tr style=\"text-align: right;\">\n",
       "      <th></th>\n",
       "      <th>epoch0</th>\n",
       "      <th>epoch1</th>\n",
       "      <th>epoch2</th>\n",
       "      <th>epoch3</th>\n",
       "      <th>epoch4</th>\n",
       "      <th>epoch5</th>\n",
       "      <th>epoch6</th>\n",
       "      <th>epoch7</th>\n",
       "      <th>epoch8</th>\n",
       "      <th>epoch9</th>\n",
       "      <th>epoch10</th>\n",
       "    </tr>\n",
       "  </thead>\n",
       "  <tbody>\n",
       "    <tr>\n",
       "      <th>0</th>\n",
       "      <td>0.76026076</td>\n",
       "      <td>0.99163467</td>\n",
       "      <td>0.9946864</td>\n",
       "      <td>0.99622226</td>\n",
       "      <td>0.997026</td>\n",
       "      <td>0.99748504</td>\n",
       "      <td>0.99784267</td>\n",
       "      <td>0.9979987</td>\n",
       "      <td>0.9969798</td>\n",
       "      <td>0.99815935</td>\n",
       "      <td>0.99829715</td>\n",
       "    </tr>\n",
       "    <tr>\n",
       "      <th>1</th>\n",
       "      <td>0.5229327</td>\n",
       "      <td>0.83060855</td>\n",
       "      <td>0.86562896</td>\n",
       "      <td>0.8913351</td>\n",
       "      <td>0.9004035</td>\n",
       "      <td>0.9041368</td>\n",
       "      <td>0.90754735</td>\n",
       "      <td>0.9095655</td>\n",
       "      <td>0.89213026</td>\n",
       "      <td>0.91422117</td>\n",
       "      <td>0.91698706</td>\n",
       "    </tr>\n",
       "    <tr>\n",
       "      <th>2</th>\n",
       "      <td>0.538655</td>\n",
       "      <td>0.77893585</td>\n",
       "      <td>0.81859803</td>\n",
       "      <td>0.8473121</td>\n",
       "      <td>0.8643282</td>\n",
       "      <td>0.86555505</td>\n",
       "      <td>0.8765034</td>\n",
       "      <td>0.8723304</td>\n",
       "      <td>0.84870493</td>\n",
       "      <td>0.8785541</td>\n",
       "      <td>0.884944</td>\n",
       "    </tr>\n",
       "    <tr>\n",
       "      <th>3</th>\n",
       "      <td>0.5881985</td>\n",
       "      <td>0.8434297</td>\n",
       "      <td>0.8681647</td>\n",
       "      <td>0.8923411</td>\n",
       "      <td>0.8999926</td>\n",
       "      <td>0.90576774</td>\n",
       "      <td>0.91108817</td>\n",
       "      <td>0.90969723</td>\n",
       "      <td>0.8937995</td>\n",
       "      <td>0.91088396</td>\n",
       "      <td>0.9156335</td>\n",
       "    </tr>\n",
       "    <tr>\n",
       "      <th>4</th>\n",
       "      <td>0.4668765</td>\n",
       "      <td>0.7748825</td>\n",
       "      <td>0.81876755</td>\n",
       "      <td>0.85030484</td>\n",
       "      <td>0.8633244</td>\n",
       "      <td>0.86290973</td>\n",
       "      <td>0.8723145</td>\n",
       "      <td>0.8719937</td>\n",
       "      <td>0.86040944</td>\n",
       "      <td>0.88100475</td>\n",
       "      <td>0.88409793</td>\n",
       "    </tr>\n",
       "    <tr>\n",
       "      <th>5</th>\n",
       "      <td>0.27565047</td>\n",
       "      <td>0.6980726</td>\n",
       "      <td>0.7399705</td>\n",
       "      <td>0.7699999</td>\n",
       "      <td>0.7921725</td>\n",
       "      <td>0.81665987</td>\n",
       "      <td>0.8326705</td>\n",
       "      <td>0.83629256</td>\n",
       "      <td>0.7984986</td>\n",
       "      <td>0.839897</td>\n",
       "      <td>0.85500526</td>\n",
       "    </tr>\n",
       "  </tbody>\n",
       "</table>\n",
       "</div>"
      ],
      "text/plain": [
       "       epoch0      epoch1      epoch2      epoch3     epoch4      epoch5  \\\n",
       "0  0.76026076  0.99163467   0.9946864  0.99622226   0.997026  0.99748504   \n",
       "1   0.5229327  0.83060855  0.86562896   0.8913351  0.9004035   0.9041368   \n",
       "2    0.538655  0.77893585  0.81859803   0.8473121  0.8643282  0.86555505   \n",
       "3   0.5881985   0.8434297   0.8681647   0.8923411  0.8999926  0.90576774   \n",
       "4   0.4668765   0.7748825  0.81876755  0.85030484  0.8633244  0.86290973   \n",
       "5  0.27565047   0.6980726   0.7399705   0.7699999  0.7921725  0.81665987   \n",
       "\n",
       "       epoch6      epoch7      epoch8      epoch9     epoch10  \n",
       "0  0.99784267   0.9979987   0.9969798  0.99815935  0.99829715  \n",
       "1  0.90754735   0.9095655  0.89213026  0.91422117  0.91698706  \n",
       "2   0.8765034   0.8723304  0.84870493   0.8785541    0.884944  \n",
       "3  0.91108817  0.90969723   0.8937995  0.91088396   0.9156335  \n",
       "4   0.8723145   0.8719937  0.86040944  0.88100475  0.88409793  \n",
       "5   0.8326705  0.83629256   0.7984986    0.839897  0.85500526  "
      ]
     },
     "execution_count": 49,
     "metadata": {},
     "output_type": "execute_result"
    }
   ],
   "source": [
    "train_dice_scores"
   ]
  },
  {
   "cell_type": "code",
   "execution_count": 50,
   "metadata": {},
   "outputs": [
    {
     "data": {
      "text/html": [
       "<div>\n",
       "<style scoped>\n",
       "    .dataframe tbody tr th:only-of-type {\n",
       "        vertical-align: middle;\n",
       "    }\n",
       "\n",
       "    .dataframe tbody tr th {\n",
       "        vertical-align: top;\n",
       "    }\n",
       "\n",
       "    .dataframe thead th {\n",
       "        text-align: right;\n",
       "    }\n",
       "</style>\n",
       "<table border=\"1\" class=\"dataframe\">\n",
       "  <thead>\n",
       "    <tr style=\"text-align: right;\">\n",
       "      <th></th>\n",
       "      <th>epoch0</th>\n",
       "      <th>epoch1</th>\n",
       "      <th>epoch2</th>\n",
       "      <th>epoch3</th>\n",
       "      <th>epoch4</th>\n",
       "      <th>epoch5</th>\n",
       "      <th>epoch6</th>\n",
       "      <th>epoch7</th>\n",
       "      <th>epoch8</th>\n",
       "      <th>epoch9</th>\n",
       "      <th>epoch10</th>\n",
       "    </tr>\n",
       "  </thead>\n",
       "  <tbody>\n",
       "    <tr>\n",
       "      <th>0</th>\n",
       "      <td>0.9995573</td>\n",
       "      <td>1.0105891</td>\n",
       "      <td>1.0058819</td>\n",
       "      <td>1.0129353</td>\n",
       "      <td>1.0000435</td>\n",
       "      <td>0.9972252</td>\n",
       "      <td>1.0096964</td>\n",
       "      <td>1.0017668</td>\n",
       "      <td>1.0150901</td>\n",
       "      <td>1.0126888</td>\n",
       "      <td>1.0066905</td>\n",
       "    </tr>\n",
       "    <tr>\n",
       "      <th>1</th>\n",
       "      <td>0.7433272</td>\n",
       "      <td>0.76298684</td>\n",
       "      <td>0.76488256</td>\n",
       "      <td>0.87407297</td>\n",
       "      <td>0.6263201</td>\n",
       "      <td>0.6157981</td>\n",
       "      <td>0.70500964</td>\n",
       "      <td>0.663604</td>\n",
       "      <td>0.8949594</td>\n",
       "      <td>0.8604571</td>\n",
       "      <td>0.7633104</td>\n",
       "    </tr>\n",
       "    <tr>\n",
       "      <th>2</th>\n",
       "      <td>0.6416258</td>\n",
       "      <td>0.71254814</td>\n",
       "      <td>0.6345407</td>\n",
       "      <td>0.7972583</td>\n",
       "      <td>0.6942006</td>\n",
       "      <td>0.59987587</td>\n",
       "      <td>0.66973245</td>\n",
       "      <td>0.6420722</td>\n",
       "      <td>0.8407861</td>\n",
       "      <td>0.7721756</td>\n",
       "      <td>0.6778356</td>\n",
       "    </tr>\n",
       "    <tr>\n",
       "      <th>3</th>\n",
       "      <td>0.8685001</td>\n",
       "      <td>0.8139484</td>\n",
       "      <td>0.8375156</td>\n",
       "      <td>0.92061216</td>\n",
       "      <td>0.5786364</td>\n",
       "      <td>0.47521028</td>\n",
       "      <td>0.7116526</td>\n",
       "      <td>0.70762926</td>\n",
       "      <td>0.9094247</td>\n",
       "      <td>0.9238257</td>\n",
       "      <td>0.8184775</td>\n",
       "    </tr>\n",
       "    <tr>\n",
       "      <th>4</th>\n",
       "      <td>0.72253066</td>\n",
       "      <td>0.72496676</td>\n",
       "      <td>0.6996222</td>\n",
       "      <td>0.8598471</td>\n",
       "      <td>0.65581614</td>\n",
       "      <td>0.45148414</td>\n",
       "      <td>0.6894192</td>\n",
       "      <td>0.65206283</td>\n",
       "      <td>0.82865465</td>\n",
       "      <td>0.8450606</td>\n",
       "      <td>0.71927476</td>\n",
       "    </tr>\n",
       "    <tr>\n",
       "      <th>5</th>\n",
       "      <td>0.57773393</td>\n",
       "      <td>0.5513813</td>\n",
       "      <td>0.62653637</td>\n",
       "      <td>0.74496716</td>\n",
       "      <td>0.3967062</td>\n",
       "      <td>0.39428848</td>\n",
       "      <td>0.63121116</td>\n",
       "      <td>0.42445615</td>\n",
       "      <td>0.82369566</td>\n",
       "      <td>0.7378676</td>\n",
       "      <td>0.5618347</td>\n",
       "    </tr>\n",
       "  </tbody>\n",
       "</table>\n",
       "</div>"
      ],
      "text/plain": [
       "       epoch0      epoch1      epoch2      epoch3      epoch4      epoch5  \\\n",
       "0   0.9995573   1.0105891   1.0058819   1.0129353   1.0000435   0.9972252   \n",
       "1   0.7433272  0.76298684  0.76488256  0.87407297   0.6263201   0.6157981   \n",
       "2   0.6416258  0.71254814   0.6345407   0.7972583   0.6942006  0.59987587   \n",
       "3   0.8685001   0.8139484   0.8375156  0.92061216   0.5786364  0.47521028   \n",
       "4  0.72253066  0.72496676   0.6996222   0.8598471  0.65581614  0.45148414   \n",
       "5  0.57773393   0.5513813  0.62653637  0.74496716   0.3967062  0.39428848   \n",
       "\n",
       "       epoch6      epoch7      epoch8     epoch9     epoch10  \n",
       "0   1.0096964   1.0017668   1.0150901  1.0126888   1.0066905  \n",
       "1  0.70500964    0.663604   0.8949594  0.8604571   0.7633104  \n",
       "2  0.66973245   0.6420722   0.8407861  0.7721756   0.6778356  \n",
       "3   0.7116526  0.70762926   0.9094247  0.9238257   0.8184775  \n",
       "4   0.6894192  0.65206283  0.82865465  0.8450606  0.71927476  \n",
       "5  0.63121116  0.42445615  0.82369566  0.7378676   0.5618347  "
      ]
     },
     "execution_count": 50,
     "metadata": {},
     "output_type": "execute_result"
    }
   ],
   "source": [
    "val_dice_scores"
   ]
  },
  {
   "cell_type": "code",
   "execution_count": null,
   "metadata": {},
   "outputs": [],
   "source": []
  }
 ],
 "metadata": {
  "kernelspec": {
   "display_name": "Python 3",
   "language": "python",
   "name": "python3"
  },
  "language_info": {
   "codemirror_mode": {
    "name": "ipython",
    "version": 3
   },
   "file_extension": ".py",
   "mimetype": "text/x-python",
   "name": "python",
   "nbconvert_exporter": "python",
   "pygments_lexer": "ipython3",
   "version": "3.6.4"
  }
 },
 "nbformat": 4,
 "nbformat_minor": 2
}
