{
 "cells": [
  {
   "cell_type": "code",
   "execution_count": 60,
   "metadata": {},
   "outputs": [],
   "source": [
    "import torch\n",
    "import torch.nn as nn\n",
    "from torch.autograd import Variable\n",
    "import torch.optim as optim\n",
    "import torchvision\n",
    "from torchvision import datasets, models\n",
    "from torchvision import transforms as T\n",
    "from torch.utils.data import DataLoader, Dataset\n",
    "import numpy as np\n",
    "import matplotlib.pyplot as plt\n",
    "import os\n",
    "import time\n",
    "import pandas as pd\n",
    "from skimage import io, transform\n",
    "import matplotlib.image as mpimg\n",
    "from PIL import Image\n",
    "from sklearn.metrics import roc_auc_score\n",
    "import torch.nn.functional as F\n",
    "import scipy\n",
    "import random\n",
    "import pickle\n",
    "import scipy.io as sio\n",
    "\n",
    "import warnings\n",
    "warnings.filterwarnings(\"ignore\")\n",
    "%matplotlib inline\n",
    "plt.ion()\n",
    "\n",
    "from torch.utils.data import Dataset, DataLoader\n",
    "import pandas as pd\n",
    "import os\n",
    "from skimage import io\n",
    "import torch\n",
    "from torchvision import transforms\n",
    "import torchvision\n",
    "from skimage import color\n",
    "from torch.optim import lr_scheduler\n",
    "from torchvision.utils import make_grid\n",
    "import nibabel"
   ]
  },
  {
   "cell_type": "code",
   "execution_count": 61,
   "metadata": {},
   "outputs": [],
   "source": [
    "import pickle\n",
    "def pickling(file,path):\n",
    "    pickle.dump(file,open(path,'wb'))\n",
    "def unpickling(path):\n",
    "    file_return=pickle.load(open(path,'rb'))\n",
    "    return file_return"
   ]
  },
  {
   "cell_type": "code",
   "execution_count": 62,
   "metadata": {},
   "outputs": [],
   "source": [
    "available_segments = [  0,   2,   3,   4,   5,   7,   8,  10,  11,  12,  13,  14,  15,\n",
    "        16,  17,  18,  24,  26,  28,  30,  31,  41,  42,  43,  44,  46,\n",
    "        47,  49,  50,  51,  52,  53,  54,  58,  60,  62,  63,  72,  77,\n",
    "        80,  85, 251, 252, 253, 254, 255]"
   ]
  },
  {
   "cell_type": "code",
   "execution_count": 65,
   "metadata": {},
   "outputs": [
    {
     "data": {
      "text/plain": [
       "46"
      ]
     },
     "execution_count": 65,
     "metadata": {},
     "output_type": "execute_result"
    }
   ],
   "source": [
    "len(available_segments)"
   ]
  },
  {
   "cell_type": "code",
   "execution_count": 63,
   "metadata": {},
   "outputs": [],
   "source": [
    "# available_segments_req = [0,2,3,41,42]\n",
    "# available_segments_req_index = [0,1,2,21,22]"
   ]
  },
  {
   "cell_type": "code",
   "execution_count": 66,
   "metadata": {},
   "outputs": [],
   "source": [
    "class BrainImages(Dataset):\n",
    "    def __init__(self, image_dir, label_dir, train_data = False, flipping = True, rotation = True, translation = True):\n",
    "        \n",
    "        self.image_dir = image_dir\n",
    "        self.label_dir = label_dir\n",
    "        self.flipping = flipping\n",
    "        self.rotation = rotation\n",
    "        self.translation = translation\n",
    "        self.train_data = train_data\n",
    "\n",
    "    def __len__(self):\n",
    "        return len(self.image_dir)\n",
    "\n",
    "    def __getitem__(self,idx):\n",
    "        image_path = \"/gpfs/data/\"+self.image_dir[idx]\n",
    "        aseg_path = \"/gpfs/data/\"+self.label_dir[idx]\n",
    "        \n",
    "        img_orig = nibabel.freesurfer.mghformat.MGHImage.from_filename(image_path)\n",
    "        image = img_orig.get_data().astype(np.float64)\n",
    "        aseg_img = nibabel.freesurfer.mghformat.MGHImage.from_filename(aseg_path)\n",
    "        aseg_img = aseg_img.get_data().astype(np.float64)\n",
    "\n",
    "        flip = random.random() > 0.5\n",
    "        angle = random.uniform(-5,5)\n",
    "        dx = np.round(random.uniform(-10,10))\n",
    "        dy = np.round(random.uniform(-10,10))\n",
    "        \n",
    "        im = Image.fromarray(image[0])\n",
    "        target = Image.fromarray(aseg_img[0])\n",
    "        if self.train_data:\n",
    "            if self.flipping and flip:\n",
    "                im = im.transpose(0)\n",
    "                target = target.transpose(0)\n",
    "            if self.rotation:\n",
    "                im = im.rotate(angle)\n",
    "                target = target.rotate(angle)\n",
    "            if self.translation:\n",
    "                im = im.transform((256,256),0, (1,0,dx,0,1,dy))\n",
    "                target = target.transform((256,256),0,(1,0,dx,0,1,dy))\n",
    "                \n",
    "        im = torch.from_numpy(np.array(im, np.float64, copy=False).reshape((1,256,256)))/255\n",
    "        target = np.array(target, np.float64, copy=False)\n",
    "        target_label = np.zeros((6,256,256))\n",
    "        for i,a in enumerate(available_segments):\n",
    "            temp = (target==a).astype(int)\n",
    "            if i in [0,1,2,21,22]:\n",
    "                target_label[[0,1,2,21,22].index(i),:,:] = temp\n",
    "            else:\n",
    "                target_label[5,:,:] = target_label[5,:,:] + temp\n",
    "        target_label[5,:,:] = (target_label[5,:,:]>=1).astype(int) \n",
    "#        print(target_label.shape)\n",
    "        target_label = torch.from_numpy(target_label)\n",
    "        sample = {'x':im,'y':target_label} \n",
    "        return sample"
   ]
  },
  {
   "cell_type": "code",
   "execution_count": 67,
   "metadata": {},
   "outputs": [],
   "source": [
    "# # torch.from_numpy()\n",
    "# train_file_names = unpickling(\"/scratch/ark576/train_file_names\")\n",
    "# train_label_names = unpickling(\"/scratch/ark576/train_label_names\")\n",
    "# rand1 = np.arange(len(train_file_names))\n",
    "# np.random.shuffle(rand1)\n",
    "# rand1 = rand1[:1000]\n",
    "\n",
    "# val_file_names = unpickling(\"/scratch/ark576/val_file_names\")\n",
    "# val_label_names = unpickling(\"/scratch/ark576/val_label_names\")\n",
    "# rand2 = np.arange(len(val_file_names))\n",
    "# np.random.shuffle(rand2)\n",
    "# rand2 = rand2[:250]\n",
    "\n",
    "# test_file_names = unpickling(\"/scratch/ark576/test_file_names\")\n",
    "# test_label_names = unpickling(\"/scratch/ark576/test_label_names\")\n",
    "# rand3 = np.arange(len(test_file_names))\n",
    "# np.random.shuffle(rand3)\n",
    "# rand3 = rand3[:3]\n",
    "\n",
    "\n"
   ]
  },
  {
   "cell_type": "code",
   "execution_count": 68,
   "metadata": {},
   "outputs": [],
   "source": [
    "file_names = pd.read_csv(\"all_complete_path.csv\")"
   ]
  },
  {
   "cell_type": "code",
   "execution_count": 69,
   "metadata": {},
   "outputs": [
    {
     "data": {
      "text/html": [
       "<div>\n",
       "<style scoped>\n",
       "    .dataframe tbody tr th:only-of-type {\n",
       "        vertical-align: middle;\n",
       "    }\n",
       "\n",
       "    .dataframe tbody tr th {\n",
       "        vertical-align: top;\n",
       "    }\n",
       "\n",
       "    .dataframe thead th {\n",
       "        text-align: right;\n",
       "    }\n",
       "</style>\n",
       "<table border=\"1\" class=\"dataframe\">\n",
       "  <thead>\n",
       "    <tr style=\"text-align: right;\">\n",
       "      <th></th>\n",
       "      <th>left_to_right_raw</th>\n",
       "      <th>left_to_right_segmented</th>\n",
       "      <th>top_to_bottom_raw</th>\n",
       "      <th>top_to_bottom_segmented</th>\n",
       "      <th>back_to_front_raw</th>\n",
       "      <th>back_to_front_segmented</th>\n",
       "    </tr>\n",
       "  </thead>\n",
       "  <tbody>\n",
       "    <tr>\n",
       "      <th>0</th>\n",
       "      <td>/cbi/hcp/hcp_seg/aseg_all_slices/left_to_right...</td>\n",
       "      <td>/cbi/hcp/hcp_seg/aseg_all_slices/left_to_right...</td>\n",
       "      <td>/cbi/hcp/hcp_seg/aseg_all_slices/top_to_bottom...</td>\n",
       "      <td>/cbi/hcp/hcp_seg/aseg_all_slices/top_to_bottom...</td>\n",
       "      <td>/cbi/hcp/hcp_seg/aseg_all_slices/back_to_front...</td>\n",
       "      <td>/cbi/hcp/hcp_seg/aseg_all_slices/back_to_front...</td>\n",
       "    </tr>\n",
       "    <tr>\n",
       "      <th>1</th>\n",
       "      <td>/cbi/hcp/hcp_seg/aseg_all_slices/left_to_right...</td>\n",
       "      <td>/cbi/hcp/hcp_seg/aseg_all_slices/left_to_right...</td>\n",
       "      <td>/cbi/hcp/hcp_seg/aseg_all_slices/top_to_bottom...</td>\n",
       "      <td>/cbi/hcp/hcp_seg/aseg_all_slices/top_to_bottom...</td>\n",
       "      <td>/cbi/hcp/hcp_seg/aseg_all_slices/back_to_front...</td>\n",
       "      <td>/cbi/hcp/hcp_seg/aseg_all_slices/back_to_front...</td>\n",
       "    </tr>\n",
       "    <tr>\n",
       "      <th>2</th>\n",
       "      <td>/cbi/hcp/hcp_seg/aseg_all_slices/left_to_right...</td>\n",
       "      <td>/cbi/hcp/hcp_seg/aseg_all_slices/left_to_right...</td>\n",
       "      <td>/cbi/hcp/hcp_seg/aseg_all_slices/top_to_bottom...</td>\n",
       "      <td>/cbi/hcp/hcp_seg/aseg_all_slices/top_to_bottom...</td>\n",
       "      <td>/cbi/hcp/hcp_seg/aseg_all_slices/back_to_front...</td>\n",
       "      <td>/cbi/hcp/hcp_seg/aseg_all_slices/back_to_front...</td>\n",
       "    </tr>\n",
       "    <tr>\n",
       "      <th>3</th>\n",
       "      <td>/cbi/hcp/hcp_seg/aseg_all_slices/left_to_right...</td>\n",
       "      <td>/cbi/hcp/hcp_seg/aseg_all_slices/left_to_right...</td>\n",
       "      <td>/cbi/hcp/hcp_seg/aseg_all_slices/top_to_bottom...</td>\n",
       "      <td>/cbi/hcp/hcp_seg/aseg_all_slices/top_to_bottom...</td>\n",
       "      <td>/cbi/hcp/hcp_seg/aseg_all_slices/back_to_front...</td>\n",
       "      <td>/cbi/hcp/hcp_seg/aseg_all_slices/back_to_front...</td>\n",
       "    </tr>\n",
       "    <tr>\n",
       "      <th>4</th>\n",
       "      <td>/cbi/hcp/hcp_seg/aseg_all_slices/left_to_right...</td>\n",
       "      <td>/cbi/hcp/hcp_seg/aseg_all_slices/left_to_right...</td>\n",
       "      <td>/cbi/hcp/hcp_seg/aseg_all_slices/top_to_bottom...</td>\n",
       "      <td>/cbi/hcp/hcp_seg/aseg_all_slices/top_to_bottom...</td>\n",
       "      <td>/cbi/hcp/hcp_seg/aseg_all_slices/back_to_front...</td>\n",
       "      <td>/cbi/hcp/hcp_seg/aseg_all_slices/back_to_front...</td>\n",
       "    </tr>\n",
       "  </tbody>\n",
       "</table>\n",
       "</div>"
      ],
      "text/plain": [
       "                                   left_to_right_raw  \\\n",
       "0  /cbi/hcp/hcp_seg/aseg_all_slices/left_to_right...   \n",
       "1  /cbi/hcp/hcp_seg/aseg_all_slices/left_to_right...   \n",
       "2  /cbi/hcp/hcp_seg/aseg_all_slices/left_to_right...   \n",
       "3  /cbi/hcp/hcp_seg/aseg_all_slices/left_to_right...   \n",
       "4  /cbi/hcp/hcp_seg/aseg_all_slices/left_to_right...   \n",
       "\n",
       "                             left_to_right_segmented  \\\n",
       "0  /cbi/hcp/hcp_seg/aseg_all_slices/left_to_right...   \n",
       "1  /cbi/hcp/hcp_seg/aseg_all_slices/left_to_right...   \n",
       "2  /cbi/hcp/hcp_seg/aseg_all_slices/left_to_right...   \n",
       "3  /cbi/hcp/hcp_seg/aseg_all_slices/left_to_right...   \n",
       "4  /cbi/hcp/hcp_seg/aseg_all_slices/left_to_right...   \n",
       "\n",
       "                                   top_to_bottom_raw  \\\n",
       "0  /cbi/hcp/hcp_seg/aseg_all_slices/top_to_bottom...   \n",
       "1  /cbi/hcp/hcp_seg/aseg_all_slices/top_to_bottom...   \n",
       "2  /cbi/hcp/hcp_seg/aseg_all_slices/top_to_bottom...   \n",
       "3  /cbi/hcp/hcp_seg/aseg_all_slices/top_to_bottom...   \n",
       "4  /cbi/hcp/hcp_seg/aseg_all_slices/top_to_bottom...   \n",
       "\n",
       "                             top_to_bottom_segmented  \\\n",
       "0  /cbi/hcp/hcp_seg/aseg_all_slices/top_to_bottom...   \n",
       "1  /cbi/hcp/hcp_seg/aseg_all_slices/top_to_bottom...   \n",
       "2  /cbi/hcp/hcp_seg/aseg_all_slices/top_to_bottom...   \n",
       "3  /cbi/hcp/hcp_seg/aseg_all_slices/top_to_bottom...   \n",
       "4  /cbi/hcp/hcp_seg/aseg_all_slices/top_to_bottom...   \n",
       "\n",
       "                                   back_to_front_raw  \\\n",
       "0  /cbi/hcp/hcp_seg/aseg_all_slices/back_to_front...   \n",
       "1  /cbi/hcp/hcp_seg/aseg_all_slices/back_to_front...   \n",
       "2  /cbi/hcp/hcp_seg/aseg_all_slices/back_to_front...   \n",
       "3  /cbi/hcp/hcp_seg/aseg_all_slices/back_to_front...   \n",
       "4  /cbi/hcp/hcp_seg/aseg_all_slices/back_to_front...   \n",
       "\n",
       "                             back_to_front_segmented  \n",
       "0  /cbi/hcp/hcp_seg/aseg_all_slices/back_to_front...  \n",
       "1  /cbi/hcp/hcp_seg/aseg_all_slices/back_to_front...  \n",
       "2  /cbi/hcp/hcp_seg/aseg_all_slices/back_to_front...  \n",
       "3  /cbi/hcp/hcp_seg/aseg_all_slices/back_to_front...  \n",
       "4  /cbi/hcp/hcp_seg/aseg_all_slices/back_to_front...  "
      ]
     },
     "execution_count": 69,
     "metadata": {},
     "output_type": "execute_result"
    }
   ],
   "source": [
    "file_names.head()"
   ]
  },
  {
   "cell_type": "code",
   "execution_count": 70,
   "metadata": {},
   "outputs": [],
   "source": [
    "train_subjects = unpickling(\"train_subject_index\")\n",
    "val_subjects = unpickling(\"val_subject_index\")\n",
    "test_subjects = unpickling(\"test_subject_index\")"
   ]
  },
  {
   "cell_type": "code",
   "execution_count": 71,
   "metadata": {},
   "outputs": [],
   "source": [
    "full_train_raw = list(file_names.iloc[train_subjects,2])\n",
    "full_train_seg = list(file_names.iloc[train_subjects,3])\n",
    "\n",
    "full_val_raw = list(file_names.iloc[val_subjects,2])\n",
    "full_val_seg = list(file_names.iloc[val_subjects,3])\n",
    "\n",
    "full_test_raw = list(file_names.iloc[test_subjects,2])\n",
    "full_test_seg = list(file_names.iloc[test_subjects,3])"
   ]
  },
  {
   "cell_type": "code",
   "execution_count": 85,
   "metadata": {},
   "outputs": [],
   "source": [
    "rand1 = np.arange(len(full_train_raw))\n",
    "np.random.shuffle(rand1)\n",
    "rand1 = rand1[:4980]\n",
    "\n",
    "rand2 = np.arange(len(val_subjects))\n",
    "np.random.shuffle(rand2)\n",
    "rand2 = rand2[:500]\n",
    "\n",
    "rand3 = np.arange(len(test_subjects))\n",
    "np.random.shuffle(rand3)\n",
    "rand3 = rand3[:3]"
   ]
  },
  {
   "cell_type": "code",
   "execution_count": 86,
   "metadata": {},
   "outputs": [],
   "source": [
    "transformed_dataset = {'train': BrainImages(np.array(full_train_raw)[rand1],np.array(full_train_seg)[rand1], train_data= True, flipping=False),\n",
    "                       'validate': BrainImages(np.array(full_val_raw)[rand2],np.array(full_val_seg)[rand2]),\n",
    "                       'test': BrainImages(np.array(full_test_raw)[rand3],np.array(full_test_seg)[rand3])\n",
    "                                               }\n",
    "\n",
    "dataloader = {x: DataLoader(transformed_dataset[x], batch_size=30,\n",
    "                        shuffle=True, num_workers=0) for x in ['train', 'validate','test']}\n",
    "data_sizes ={x: len(transformed_dataset[x]) for x in ['train', 'validate','test']}"
   ]
  },
  {
   "cell_type": "code",
   "execution_count": 87,
   "metadata": {},
   "outputs": [],
   "source": [
    "inputs = next(iter(dataloader['train']))"
   ]
  },
  {
   "cell_type": "code",
   "execution_count": 88,
   "metadata": {
    "scrolled": false
   },
   "outputs": [
    {
     "data": {
      "image/png": "[encoded data removed]",
      "text/plain": [
       "<matplotlib.figure.Figure at 0x2001044bd6a0>"
      ]
     },
     "metadata": {},
     "output_type": "display_data"
    },
    {
     "data": {
      "image/png": "[encoded data removed]",
      "text/plain": [
       "<matplotlib.figure.Figure at 0x200122d1d9e8>"
      ]
     },
     "metadata": {},
     "output_type": "display_data"
    },
    {
     "data": {
      "image/png": "[encoded data removed]",
      "text/plain": [
       "<matplotlib.figure.Figure at 0x200103cca400>"
      ]
     },
     "metadata": {},
     "output_type": "display_data"
    },
    {
     "data": {
      "image/png": "[encoded data removed]",
      "text/plain": [
       "<matplotlib.figure.Figure at 0x200103ca6cc0>"
      ]
     },
     "metadata": {},
     "output_type": "display_data"
    },
    {
     "data": {
      "image/png": "[encoded data removed]",
      "text/plain": [
       "<matplotlib.figure.Figure at 0x20012aa397b8>"
      ]
     },
     "metadata": {},
     "output_type": "display_data"
    },
    {
     "data": {
      "image/png": "[encoded data removed]",
      "text/plain": [
       "<matplotlib.figure.Figure at 0x200122d4b240>"
      ]
     },
     "metadata": {},
     "output_type": "display_data"
    },
    {
     "data": {
      "image/png": "[encoded data removed]",
      "text/plain": [
       "<matplotlib.figure.Figure at 0x20012aa4fac8>"
      ]
     },
     "metadata": {},
     "output_type": "display_data"
    }
   ],
   "source": [
    "m = 0\n",
    "plt.imshow(inputs['x'][m,0,:,:].numpy())\n",
    "plt.show()\n",
    "for i in range(6):\n",
    "    plt.imshow(inputs['y'][m,i,:,:].numpy())\n",
    "    plt.show()"
   ]
  },
  {
   "cell_type": "code",
   "execution_count": 89,
   "metadata": {},
   "outputs": [
    {
     "data": {
      "text/plain": [
       "199.33333333333334"
      ]
     },
     "execution_count": 89,
     "metadata": {},
     "output_type": "execute_result"
    }
   ],
   "source": [
    "5980/30"
   ]
  },
  {
   "cell_type": "code",
   "execution_count": 90,
   "metadata": {
    "scrolled": true
   },
   "outputs": [
    {
     "name": "stdout",
     "output_type": "stream",
     "text": [
      "0\n",
      "1\n",
      "2\n",
      "3\n",
      "4\n",
      "5\n",
      "6\n",
      "7\n",
      "8\n",
      "9\n",
      "10\n",
      "11\n",
      "12\n",
      "13\n",
      "14\n",
      "15\n",
      "16\n",
      "17\n",
      "18\n",
      "19\n",
      "20\n",
      "21\n",
      "22\n",
      "23\n",
      "24\n",
      "25\n",
      "26\n",
      "27\n",
      "28\n",
      "29\n",
      "30\n",
      "31\n",
      "32\n",
      "33\n",
      "34\n",
      "35\n",
      "36\n",
      "37\n",
      "38\n",
      "39\n",
      "40\n",
      "41\n",
      "42\n",
      "43\n",
      "44\n",
      "45\n",
      "46\n",
      "47\n",
      "48\n",
      "49\n",
      "50\n",
      "51\n",
      "52\n",
      "53\n",
      "54\n",
      "55\n",
      "56\n",
      "57\n",
      "58\n",
      "59\n",
      "60\n",
      "61\n",
      "62\n",
      "63\n",
      "64\n",
      "65\n",
      "66\n",
      "67\n",
      "68\n",
      "69\n",
      "70\n",
      "71\n",
      "72\n",
      "73\n",
      "74\n",
      "75\n",
      "76\n",
      "77\n",
      "78\n",
      "79\n",
      "80\n",
      "81\n",
      "82\n",
      "83\n",
      "84\n",
      "85\n",
      "86\n",
      "87\n",
      "88\n",
      "89\n",
      "90\n",
      "91\n",
      "92\n",
      "93\n",
      "94\n",
      "95\n",
      "96\n",
      "97\n",
      "98\n",
      "99\n",
      "100\n",
      "101\n",
      "102\n",
      "103\n",
      "104\n",
      "105\n",
      "106\n",
      "107\n",
      "108\n",
      "109\n",
      "110\n",
      "111\n",
      "112\n",
      "113\n",
      "114\n",
      "115\n",
      "116\n",
      "117\n",
      "118\n",
      "119\n",
      "120\n",
      "121\n",
      "122\n",
      "123\n",
      "124\n",
      "125\n",
      "126\n",
      "127\n",
      "128\n",
      "129\n",
      "130\n",
      "131\n",
      "132\n",
      "133\n",
      "134\n",
      "135\n",
      "136\n",
      "137\n",
      "138\n",
      "139\n",
      "140\n",
      "141\n",
      "142\n",
      "143\n",
      "144\n",
      "145\n",
      "146\n",
      "147\n",
      "148\n",
      "149\n",
      "150\n",
      "151\n",
      "152\n",
      "153\n",
      "154\n",
      "155\n",
      "156\n",
      "157\n",
      "158\n",
      "159\n",
      "160\n",
      "161\n",
      "162\n",
      "163\n",
      "164\n",
      "165\n"
     ]
    }
   ],
   "source": [
    "df_seg = pd.DataFrame(columns=np.arange(6))\n",
    "ll = 0\n",
    "batch = 30\n",
    "for data in dataloader[\"train\"]:\n",
    "    print(ll)\n",
    "    y = data['y'].numpy()\n",
    "    #print(y.shape)\n",
    "    for i in range(batch):\n",
    "        for j in range(6):\n",
    "            s = np.sum(y[i,j,:,:])\n",
    "            df_seg.loc[ll*batch+i,j] = s\n",
    "    ll = ll + 1"
   ]
  },
  {
   "cell_type": "code",
   "execution_count": 91,
   "metadata": {},
   "outputs": [
    {
     "data": {
      "text/plain": [
       "(4980, 6)"
      ]
     },
     "execution_count": 91,
     "metadata": {},
     "output_type": "execute_result"
    }
   ],
   "source": [
    "df_seg.shape"
   ]
  },
  {
   "cell_type": "code",
   "execution_count": 92,
   "metadata": {},
   "outputs": [],
   "source": [
    "class Downsample_block(nn.Module):\n",
    "    def __init__(self, in_channels, out_channels):\n",
    "        super(Downsample_block, self).__init__()\n",
    "        self.conv1 = nn.Conv2d(in_channels, out_channels, 3, padding=1)\n",
    "        self.bn1 = nn.BatchNorm2d(out_channels)\n",
    "        self.conv2 = nn.Conv2d(out_channels, out_channels, 3, padding=1)\n",
    "        self.bn2 = nn.BatchNorm2d(out_channels)\n",
    "    \n",
    "    def forward(self,x):\n",
    "        x = F.relu(self.bn1(self.conv1(x)))\n",
    "        y = F.relu(self.bn2(self.conv2(x)))\n",
    "        x = F.max_pool2d(y, 2,stride = 2)\n",
    "        \n",
    "        return x, y"
   ]
  },
  {
   "cell_type": "code",
   "execution_count": 93,
   "metadata": {},
   "outputs": [],
   "source": [
    "class Upsample_block(nn.Module):\n",
    "    def __init__(self,in_channels, out_channels):\n",
    "        super(Upsample_block, self).__init__()\n",
    "        self.transconv = nn.ConvTranspose2d(in_channels, out_channels, 4, padding = 1, stride = 2)\n",
    "        self.conv1 = nn.Conv2d(in_channels, out_channels, 3, padding = 1)\n",
    "        self.bn1 = nn.BatchNorm2d(out_channels)\n",
    "        self.conv2 = nn.Conv2d(out_channels, out_channels, 3, padding = 1)\n",
    "        self.bn2 = nn.BatchNorm2d(out_channels)\n",
    "        \n",
    "    def forward(self,x, y):\n",
    "        x = self.transconv(x)\n",
    "        x = torch.cat((x,y),dim = 1)\n",
    "        x = F.relu(self.bn1(self.conv1(x)))\n",
    "        x = F.relu(self.bn2(self.conv2(x)))\n",
    "        \n",
    "        return x"
   ]
  },
  {
   "cell_type": "code",
   "execution_count": 94,
   "metadata": {},
   "outputs": [],
   "source": [
    "class Unet(nn.Module):\n",
    "    def __init__(self):\n",
    "        super(Unet, self).__init__()\n",
    "        self.down1 = Downsample_block(1,64)\n",
    "        self.down2 = Downsample_block(64,128)\n",
    "        self.down3 = Downsample_block(128,256)\n",
    "        self.down4 = Downsample_block(256,512)\n",
    "        self.conv1 = nn.Conv2d(512,1024, 3, padding=1)\n",
    "        self.bn1 = nn.BatchNorm2d(1024)\n",
    "        self.conv2 = nn.Conv2d(1024,1024,3, padding = 1)\n",
    "        self.bn2 = nn.BatchNorm2d(1024)\n",
    "        self.up4 = Upsample_block(1024,512)\n",
    "        self.up3 = Upsample_block(512,256)\n",
    "        self.up2 = Upsample_block(256,128)\n",
    "        self.up1 = Upsample_block(128,64)\n",
    "        self.outconv = nn.Conv2d(64,6, 1)\n",
    "        \n",
    "    def forward(self,x):\n",
    "        x, y1 = self.down1(x)\n",
    "        x, y2 = self.down2(x)\n",
    "        x, y3 = self.down3(x)\n",
    "        x, y4 = self.down4(x)\n",
    "        x = F.dropout2d(F.relu(self.bn1(self.conv1(x))))\n",
    "        x = F.dropout2d(F.relu(self.bn2(self.conv2(x))))\n",
    "        x = self.up4(x, y4)\n",
    "        x = self.up3(x, y3)\n",
    "        x = self.up2(x, y2)\n",
    "        x = self.up1(x, y1)\n",
    "        x = self.outconv(x)\n",
    "        \n",
    "        return x"
   ]
  },
  {
   "cell_type": "code",
   "execution_count": 45,
   "metadata": {},
   "outputs": [],
   "source": [
    "# voxel_count = pd.read_csv('/gpfs/data/cbi/hcp/hcp_seg/brain_segmentation/segment_counts.csv')"
   ]
  },
  {
   "cell_type": "code",
   "execution_count": 46,
   "metadata": {},
   "outputs": [],
   "source": [
    "# wts_num1 = np.mean(np.array(voxel_count.iloc[:,available_segments]),axis = 0)"
   ]
  },
  {
   "cell_type": "code",
   "execution_count": 47,
   "metadata": {},
   "outputs": [],
   "source": [
    "# wts_num = list(wts_num1[[0,1,2,21,22]])\n",
    "# wts_num.append(np.sum(wts_num1) - np.sum(wts_num))"
   ]
  },
  {
   "cell_type": "code",
   "execution_count": 95,
   "metadata": {},
   "outputs": [],
   "source": [
    "wts_num = np.mean(np.array(df_seg),axis=0)"
   ]
  },
  {
   "cell_type": "code",
   "execution_count": 96,
   "metadata": {},
   "outputs": [],
   "source": [
    "wts_torch = Variable(torch.from_numpy(np.array(wts_num))).cuda()"
   ]
  },
  {
   "cell_type": "code",
   "execution_count": 97,
   "metadata": {},
   "outputs": [
    {
     "data": {
      "text/plain": [
       "tensor([ 60458.1566,    924.7002,   1094.5620,    952.6088,   1112.8831,\n",
       "           993.0892], dtype=torch.float64, device='cuda:0')"
      ]
     },
     "execution_count": 97,
     "metadata": {},
     "output_type": "execute_result"
    }
   ],
   "source": [
    "wts_torch"
   ]
  },
  {
   "cell_type": "code",
   "execution_count": 107,
   "metadata": {},
   "outputs": [],
   "source": [
    "def dice_loss_2(true1,scores1,mean, epsilon = 1e-4,p = 1.25):\n",
    "    N, C, sh1, sh2 = true1.size()\n",
    "    \n",
    "    true = []\n",
    "    scores = []\n",
    "    for c in range(N):\n",
    "        if not torch.sum(true1[c,1:,:,:])==0:\n",
    "            true.append(true1[c,:,:,:])\n",
    "            scores.append(scores1[c,:,:,:])\n",
    "    try:\n",
    "        true = torch.stack(true)\n",
    "        scores = torch.stack(scores)\n",
    "    except:\n",
    "        return -1\n",
    "    N, C, sh1, sh2 = true.size()\n",
    "    \n",
    "    \n",
    "    preds = F.softmax(scores)\n",
    "    true = true.view(N, C, -1)\n",
    "    preds = preds.view(N, C, -1)\n",
    "    wts = torch.sum(true, dim = 2) + epsilon\n",
    "    mean = 1/torch.pow(mean,p)\n",
    "    wts[:,:] = mean[None].repeat(N,1)\n",
    "    wts = wts/(torch.sum(wts,dim = 1)[:,None])\n",
    "    prod = torch.sum(true*preds,dim = 2)\n",
    "    sum_tnp = torch.sum(true + preds, dim = 2)\n",
    "    num = torch.sum(wts * prod, dim = 1)\n",
    "    denom = torch.sum(wts * sum_tnp, dim = 1) + epsilon\n",
    "    loss = 1 - 2*(num/denom)\n",
    "    return torch.mean(loss)"
   ]
  },
  {
   "cell_type": "code",
   "execution_count": 108,
   "metadata": {},
   "outputs": [],
   "source": [
    "def dice_score(true1,scores1, epsilon = 1e-7):\n",
    "    N ,C, sh1, sh2 = true1.size()\n",
    "    true = []\n",
    "    scores = []\n",
    "    for c in range(N):\n",
    "        if not torch.sum(true1[c,1:,:,:])==0:\n",
    "            true.append(true1[c,:,:,:])\n",
    "            scores.append(scores1[c,:,:,:])\n",
    "    try:\n",
    "        true = torch.stack(true)\n",
    "        scores = torch.stack(scores)\n",
    "    except:\n",
    "        return 0\n",
    "    \n",
    "    N, C, sh1, sh2 = true.size()\n",
    "    \n",
    "    true = true.view(N,C,-1)\n",
    "    preds = F.softmax(scores)\n",
    "    pred_class = (torch.max(preds, dim = 1)[1]).view(N,-1)\n",
    "    class_score = [0]*6\n",
    "    for i in range(6):\n",
    "        class_score[i] = (pred_class == i).data.type(torch.cuda.FloatTensor)\n",
    "    true = true.data.type(torch.cuda.FloatTensor)\n",
    "    def numerator(truth,pred, idx):\n",
    "        return(torch.sum(truth[:,idx,:] * pred,dim = 1)) + epsilon/2\n",
    "    def denominator(truth,pred,idx):\n",
    "        return(torch.sum(truth[:,idx,:]+pred,dim = 1)) + epsilon\n",
    "    dice_class_score = [0]*6\n",
    "    for i in range(6):\n",
    "        dice_class_score[i] = torch.mean(2*(numerator(true,class_score[i],i))/(denominator(true,class_score[i],i)))\n",
    "    return dice_class_score\n",
    "    "
   ]
  },
  {
   "cell_type": "code",
   "execution_count": 109,
   "metadata": {},
   "outputs": [],
   "source": [
    "import time\n",
    "def train_model(model, optimizer,dataloader, data_sizes, batch_size, num_epochs = 100, verbose = False):\n",
    "    since = time.time()\n",
    "    best_loss = np.inf\n",
    "    loss_hist = {'train':[],'validate':[]}\n",
    "    dice_scores_of_all_class = [{'train':[],'validate':[]} for i in range(6)]    \n",
    "    for i in range(num_epochs):\n",
    "        for phase in ['train', 'validate']:\n",
    "            running_loss = 0\n",
    "            run_class_scores = [0]*6\n",
    "            if phase == 'train':\n",
    "                model.train(True)\n",
    "            else:\n",
    "                model.train(False)\n",
    "    \n",
    "            for data in dataloader[phase]:\n",
    "                optimizer.zero_grad()\n",
    "                x = data['x']\n",
    "                y = data['y']\n",
    "                x = Variable(x).type(torch.FloatTensor).cuda()\n",
    "                y = Variable(y).type(torch.FloatTensor).cuda()\n",
    "                \n",
    "                output = model(x)\n",
    "                loss = dice_loss_2(y, output,wts_torch)\n",
    "                if loss==-1:\n",
    "                    continue\n",
    "                if phase == 'train':\n",
    "                    loss.backward()\n",
    "                    optimizer.step()\n",
    "                running_loss += loss.data[0] * batch_size\n",
    "                dice_score_batch = dice_score(y,output)\n",
    "\n",
    "                for j in range(6):\n",
    "                    run_class_scores[j] = run_class_scores[j] + dice_score_batch[j] * batch_size\n",
    "            epoch_loss = running_loss/data_sizes[phase]\n",
    "            loss_hist[phase].append(epoch_loss.item()) \n",
    "            for j in range(6):\n",
    "                score = run_class_scores[j]/data_sizes[phase]\n",
    "                dice_scores_of_all_class[j][phase].append(score.to(torch.device(\"cpu\")).numpy())\n",
    "            if verbose or i%1 == 0:\n",
    "                print('Epoch: {}, Phase: {}, epoch loss: {:.4f}'.format(i,phase,epoch_loss))\n",
    "                print('-'*10)\n",
    "            \n",
    "        if phase == 'validate' and epoch_loss < best_loss:\n",
    "            best_loss = epoch_loss\n",
    "            best_model_wts = model.state_dict() \n",
    "        #print(i)\n",
    "    print('-'*50)    \n",
    "    time_elapsed = time.time() - since\n",
    "    print('Training complete in {:.0f}m {:.0f}s'.format(time_elapsed // 60, time_elapsed % 60))\n",
    "    print('Best val dice loss: {:4f}'.format(best_loss))\n",
    "    \n",
    "    model.load_state_dict(best_model_wts)\n",
    "    \n",
    "    return model, loss_hist, dice_scores_of_all_class"
   ]
  },
  {
   "cell_type": "code",
   "execution_count": 110,
   "metadata": {},
   "outputs": [],
   "source": [
    "model = Unet().cuda()\n",
    "model = nn.DataParallel(model)\n",
    "criterion = dice_loss_2\n",
    "\n",
    "optimizer = optim.Adam(model.parameters(),lr = 5e-4)\n",
    "#scheduler = lr_scheduler.StepLR(optimizer,step_size = 15)"
   ]
  },
  {
   "cell_type": "code",
   "execution_count": 111,
   "metadata": {
    "scrolled": false
   },
   "outputs": [
    {
     "name": "stdout",
     "output_type": "stream",
     "text": [
      "Epoch: 0, Phase: train, epoch loss: 0.6119\n",
      "----------\n",
      "Epoch: 0, Phase: validate, epoch loss: 0.7855\n",
      "----------\n",
      "Epoch: 1, Phase: train, epoch loss: 0.2215\n",
      "----------\n",
      "Epoch: 1, Phase: validate, epoch loss: 0.2482\n",
      "----------\n",
      "Epoch: 2, Phase: train, epoch loss: 0.1287\n",
      "----------\n",
      "Epoch: 2, Phase: validate, epoch loss: 0.2684\n",
      "----------\n",
      "Epoch: 3, Phase: train, epoch loss: 0.1052\n",
      "----------\n",
      "Epoch: 3, Phase: validate, epoch loss: 0.1665\n",
      "----------\n",
      "Epoch: 4, Phase: train, epoch loss: 0.0944\n",
      "----------\n",
      "Epoch: 4, Phase: validate, epoch loss: 0.3567\n",
      "----------\n",
      "Epoch: 5, Phase: train, epoch loss: 0.0894\n",
      "----------\n",
      "Epoch: 5, Phase: validate, epoch loss: 0.1584\n",
      "----------\n",
      "Epoch: 6, Phase: train, epoch loss: 0.0797\n",
      "----------\n",
      "Epoch: 6, Phase: validate, epoch loss: 0.1418\n",
      "----------\n",
      "Epoch: 7, Phase: train, epoch loss: 0.0808\n",
      "----------\n",
      "Epoch: 7, Phase: validate, epoch loss: 0.1999\n",
      "----------\n",
      "Epoch: 8, Phase: train, epoch loss: 0.0767\n",
      "----------\n",
      "Epoch: 8, Phase: validate, epoch loss: 0.2592\n",
      "----------\n",
      "Epoch: 9, Phase: train, epoch loss: 0.0708\n",
      "----------\n",
      "Epoch: 9, Phase: validate, epoch loss: 0.1742\n",
      "----------\n",
      "Epoch: 10, Phase: train, epoch loss: 0.0701\n",
      "----------\n",
      "Epoch: 10, Phase: validate, epoch loss: 0.5291\n",
      "----------\n",
      "--------------------------------------------------\n",
      "Training complete in 34m 59s\n",
      "Best val dice loss: 0.141796\n"
     ]
    }
   ],
   "source": [
    "model, loss_hist, dice_hist = train_model(model, optimizer,dataloader,data_sizes,30,\n",
    "                                                                num_epochs = 11, verbose = True)"
   ]
  },
  {
   "cell_type": "code",
   "execution_count": 116,
   "metadata": {},
   "outputs": [],
   "source": [
    "torch.save(model.state_dict(), \"semi_model3\")"
   ]
  },
  {
   "cell_type": "code",
   "execution_count": 122,
   "metadata": {},
   "outputs": [
    {
     "data": {
      "text/plain": [
       "{'train': [0.6119093894958496,\n",
       "  0.22154222428798676,\n",
       "  0.12866072356700897,\n",
       "  0.10517123341560364,\n",
       "  0.09444467723369598,\n",
       "  0.08942191302776337,\n",
       "  0.07970020174980164,\n",
       "  0.08075260370969772,\n",
       "  0.0767190083861351,\n",
       "  0.07076548784971237,\n",
       "  0.07005850970745087],\n",
       " 'validate': [0.7854604721069336,\n",
       "  0.24823220074176788,\n",
       "  0.2683663070201874,\n",
       "  0.1665182262659073,\n",
       "  0.3567148745059967,\n",
       "  0.15843817591667175,\n",
       "  0.1417958289384842,\n",
       "  0.1999405324459076,\n",
       "  0.2591758966445923,\n",
       "  0.17415635287761688,\n",
       "  0.529136061668396]}"
      ]
     },
     "execution_count": 122,
     "metadata": {},
     "output_type": "execute_result"
    }
   ],
   "source": [
    "loss_hist"
   ]
  },
  {
   "cell_type": "code",
   "execution_count": 123,
   "metadata": {},
   "outputs": [
    {
     "data": {
      "image/png": "[encoded data removed]",
      "text/plain": [
       "<matplotlib.figure.Figure at 0x20012aa62828>"
      ]
     },
     "metadata": {},
     "output_type": "display_data"
    }
   ],
   "source": [
    "plt.plot(loss_hist[\"train\"],label=\"train\")\n",
    "plt.plot(loss_hist[\"validate\"],label=\"val\")\n",
    "plt.legend()\n",
    "plt.show()"
   ]
  },
  {
   "cell_type": "code",
   "execution_count": 112,
   "metadata": {},
   "outputs": [],
   "source": [
    "def visualize1(image):\n",
    "    p = F.softmax(image)\n",
    "    p_maxim = torch.max(p, dim=0)[1]\n",
    "    img = []\n",
    "    for seg in range(6):\n",
    "        masked = (p_maxim==seg).data.type(torch.cuda.FloatTensor)\n",
    "        img.append(masked)\n",
    "    return torch.stack(img).resize(6,1,256,256).cpu()"
   ]
  },
  {
   "cell_type": "code",
   "execution_count": 113,
   "metadata": {},
   "outputs": [],
   "source": [
    "%matplotlib inline\n",
    "def show(img):    \n",
    "    npimg = img.numpy()\n",
    "    plt.figure(figsize = (20,20))\n",
    "    plt.imshow(np.transpose(npimg, (1,2,0)), interpolation='nearest')\n",
    "    plt.show()"
   ]
  },
  {
   "cell_type": "code",
   "execution_count": 114,
   "metadata": {
    "scrolled": false
   },
   "outputs": [],
   "source": [
    "def visualize_few():\n",
    "    data = next(iter(dataloader[\"validate\"]))\n",
    "    model.train(False)\n",
    "    x = data['x']\n",
    "    y = data['y']\n",
    "    x = Variable(x).type(torch.FloatTensor).cuda()\n",
    "    y = Variable(y).type(torch.FloatTensor).cuda()\n",
    "                \n",
    "    output = model(x)\n",
    "    for i in range(11):\n",
    "        print('-'*100)\n",
    "        print('Ground Truth')\n",
    "        abc = data['y'][i,:,:,:]\n",
    "        bcd = abc.resize(6,1,256,256)\n",
    "        show(make_grid(bcd,padding=10,pad_value=1)) \n",
    "        print('-'*100)\n",
    "        print('Prediction')\n",
    "        show(make_grid(visualize1(output[i,:,:,:]),padding=10,pad_value=1))"
   ]
  },
  {
   "cell_type": "code",
   "execution_count": 115,
   "metadata": {
    "scrolled": false
   },
   "outputs": [
    {
     "name": "stdout",
     "output_type": "stream",
     "text": [
      "----------------------------------------------------------------------------------------------------\n",
      "Ground Truth\n"
     ]
    },
    {
     "data": {
      "image/png": "[encoded data removed]",
      "text/plain": [
       "<matplotlib.figure.Figure at 0x200122b99ef0>"
      ]
     },
     "metadata": {},
     "output_type": "display_data"
    },
    {
     "name": "stdout",
     "output_type": "stream",
     "text": [
      "----------------------------------------------------------------------------------------------------\n",
      "Prediction\n"
     ]
    },
    {
     "data": {
      "image/png": "[encoded data removed]",
      "text/plain": [
       "<matplotlib.figure.Figure at 0x20011d60b4a8>"
      ]
     },
     "metadata": {},
     "output_type": "display_data"
    },
    {
     "name": "stdout",
     "output_type": "stream",
     "text": [
      "----------------------------------------------------------------------------------------------------\n",
      "Ground Truth\n"
     ]
    },
    {
     "data": {
      "image/png": "[encoded data removed]",
      "text/plain": [
       "<matplotlib.figure.Figure at 0x20011d54fd30>"
      ]
     },
     "metadata": {},
     "output_type": "display_data"
    },
    {
     "name": "stdout",
     "output_type": "stream",
     "text": [
      "----------------------------------------------------------------------------------------------------\n",
      "Prediction\n"
     ]
    },
    {
     "data": {
      "image/png": "[encoded data removed]",
      "text/plain": [
       "<matplotlib.figure.Figure at 0x20012aa9add8>"
      ]
     },
     "metadata": {},
     "output_type": "display_data"
    },
    {
     "name": "stdout",
     "output_type": "stream",
     "text": [
      "----------------------------------------------------------------------------------------------------\n",
      "Ground Truth\n"
     ]
    },
    {
     "data": {
      "image/png": "[encoded data removed]",
      "text/plain": [
       "<matplotlib.figure.Figure at 0x200122bc1630>"
      ]
     },
     "metadata": {},
     "output_type": "display_data"
    },
    {
     "name": "stdout",
     "output_type": "stream",
     "text": [
      "----------------------------------------------------------------------------------------------------\n",
      "Prediction\n"
     ]
    },
    {
     "data": {
      "image/png": "[encoded data removed]",
      "text/plain": [
       "<matplotlib.figure.Figure at 0x200145cf7780>"
      ]
     },
     "metadata": {},
     "output_type": "display_data"
    },
    {
     "name": "stdout",
     "output_type": "stream",
     "text": [
      "----------------------------------------------------------------------------------------------------\n",
      "Ground Truth\n"
     ]
    },
    {
     "data": {
      "image/png": "[encoded data removed]",
      "text/plain": [
       "<matplotlib.figure.Figure at 0x20011d575a90>"
      ]
     },
     "metadata": {},
     "output_type": "display_data"
    },
    {
     "name": "stdout",
     "output_type": "stream",
     "text": [
      "----------------------------------------------------------------------------------------------------\n",
      "Prediction\n"
     ]
    },
    {
     "data": {
      "image/png": "[encoded data removed]",
      "text/plain": [
       "<matplotlib.figure.Figure at 0x200103cc4390>"
      ]
     },
     "metadata": {},
     "output_type": "display_data"
    },
    {
     "name": "stdout",
     "output_type": "stream",
     "text": [
      "----------------------------------------------------------------------------------------------------\n",
      "Ground Truth\n"
     ]
    },
    {
     "data": {
      "image/png": "[encoded data removed]",
      "text/plain": [
       "<matplotlib.figure.Figure at 0x200122c33390>"
      ]
     },
     "metadata": {},
     "output_type": "display_data"
    },
    {
     "name": "stdout",
     "output_type": "stream",
     "text": [
      "----------------------------------------------------------------------------------------------------\n",
      "Prediction\n"
     ]
    },
    {
     "data": {
      "image/png": "[encoded data removed]",
      "text/plain": [
       "<matplotlib.figure.Figure at 0x200122d4b8d0>"
      ]
     },
     "metadata": {},
     "output_type": "display_data"
    },
    {
     "name": "stdout",
     "output_type": "stream",
     "text": [
      "----------------------------------------------------------------------------------------------------\n",
      "Ground Truth\n"
     ]
    },
    {
     "data": {
      "image/png": "[encoded data removed]",
      "text/plain": [
       "<matplotlib.figure.Figure at 0x200122c01668>"
      ]
     },
     "metadata": {},
     "output_type": "display_data"
    },
    {
     "name": "stdout",
     "output_type": "stream",
     "text": [
      "----------------------------------------------------------------------------------------------------\n",
      "Prediction\n"
     ]
    },
    {
     "data": {
      "image/png": "[encoded data removed]",
      "text/plain": [
       "<matplotlib.figure.Figure at 0x200146473550>"
      ]
     },
     "metadata": {},
     "output_type": "display_data"
    },
    {
     "name": "stdout",
     "output_type": "stream",
     "text": [
      "----------------------------------------------------------------------------------------------------\n",
      "Ground Truth\n"
     ]
    },
    {
     "data": {
      "image/png": "[encoded data removed]",
      "text/plain": [
       "<matplotlib.figure.Figure at 0x200103cf5d68>"
      ]
     },
     "metadata": {},
     "output_type": "display_data"
    },
    {
     "name": "stdout",
     "output_type": "stream",
     "text": [
      "----------------------------------------------------------------------------------------------------\n",
      "Prediction\n"
     ]
    },
    {
     "data": {
      "image/png": "[encoded data removed]",
      "text/plain": [
       "<matplotlib.figure.Figure at 0x20014653a4e0>"
      ]
     },
     "metadata": {},
     "output_type": "display_data"
    },
    {
     "name": "stdout",
     "output_type": "stream",
     "text": [
      "----------------------------------------------------------------------------------------------------\n",
      "Ground Truth\n"
     ]
    },
    {
     "data": {
      "image/png": "[encoded data removed]",
      "text/plain": [
       "<matplotlib.figure.Figure at 0x2001465462b0>"
      ]
     },
     "metadata": {},
     "output_type": "display_data"
    },
    {
     "name": "stdout",
     "output_type": "stream",
     "text": [
      "----------------------------------------------------------------------------------------------------\n",
      "Prediction\n"
     ]
    },
    {
     "data": {
      "image/png": "[encoded data removed]",
      "text/plain": [
       "<matplotlib.figure.Figure at 0x20014660a780>"
      ]
     },
     "metadata": {},
     "output_type": "display_data"
    },
    {
     "name": "stdout",
     "output_type": "stream",
     "text": [
      "----------------------------------------------------------------------------------------------------\n",
      "Ground Truth\n"
     ]
    },
    {
     "data": {
      "image/png": "[encoded data removed]",
      "text/plain": [
       "<matplotlib.figure.Figure at 0x200146603400>"
      ]
     },
     "metadata": {},
     "output_type": "display_data"
    },
    {
     "name": "stdout",
     "output_type": "stream",
     "text": [
      "----------------------------------------------------------------------------------------------------\n",
      "Prediction\n"
     ]
    },
    {
     "data": {
      "image/png": "[encoded data removed]",
      "text/plain": [
       "<matplotlib.figure.Figure at 0x200146661b38>"
      ]
     },
     "metadata": {},
     "output_type": "display_data"
    },
    {
     "name": "stdout",
     "output_type": "stream",
     "text": [
      "----------------------------------------------------------------------------------------------------\n",
      "Ground Truth\n"
     ]
    },
    {
     "data": {
      "image/png": "[encoded data removed]",
      "text/plain": [
       "<matplotlib.figure.Figure at 0x2001466e04a8>"
      ]
     },
     "metadata": {},
     "output_type": "display_data"
    },
    {
     "name": "stdout",
     "output_type": "stream",
     "text": [
      "----------------------------------------------------------------------------------------------------\n",
      "Prediction\n"
     ]
    },
    {
     "data": {
      "image/png": "[encoded data removed]",
      "text/plain": [
       "<matplotlib.figure.Figure at 0x2001465fd400>"
      ]
     },
     "metadata": {},
     "output_type": "display_data"
    },
    {
     "name": "stdout",
     "output_type": "stream",
     "text": [
      "----------------------------------------------------------------------------------------------------\n",
      "Ground Truth\n"
     ]
    },
    {
     "data": {
      "image/png": "[encoded data removed]",
      "text/plain": [
       "<matplotlib.figure.Figure at 0x2001465868d0>"
      ]
     },
     "metadata": {},
     "output_type": "display_data"
    },
    {
     "name": "stdout",
     "output_type": "stream",
     "text": [
      "----------------------------------------------------------------------------------------------------\n",
      "Prediction\n"
     ]
    },
    {
     "data": {
      "image/png": "[encoded data removed]",
      "text/plain": [
       "<matplotlib.figure.Figure at 0x20012aa96978>"
      ]
     },
     "metadata": {},
     "output_type": "display_data"
    }
   ],
   "source": [
    "visualize_few()"
   ]
  },
  {
   "cell_type": "code",
   "execution_count": 117,
   "metadata": {},
   "outputs": [],
   "source": [
    "names = []\n",
    "for i in range(11):\n",
    "    name = \"epoch\"+str(i)\n",
    "    names.append(name)"
   ]
  },
  {
   "cell_type": "code",
   "execution_count": 118,
   "metadata": {},
   "outputs": [],
   "source": [
    "train_dice_scores = pd.DataFrame(columns=names)\n",
    "val_dice_scores = pd.DataFrame(columns=names)"
   ]
  },
  {
   "cell_type": "code",
   "execution_count": 119,
   "metadata": {},
   "outputs": [],
   "source": [
    "for i in range(6):\n",
    "    class_i_train = dice_hist[i]['train']\n",
    "    class_i_val = dice_hist[i]['validate']\n",
    "    train_dice_scores.loc[i] = class_i_train\n",
    "    val_dice_scores.loc[i] = class_i_val"
   ]
  },
  {
   "cell_type": "code",
   "execution_count": 120,
   "metadata": {},
   "outputs": [
    {
     "data": {
      "text/html": [
       "<div>\n",
       "<style scoped>\n",
       "    .dataframe tbody tr th:only-of-type {\n",
       "        vertical-align: middle;\n",
       "    }\n",
       "\n",
       "    .dataframe tbody tr th {\n",
       "        vertical-align: top;\n",
       "    }\n",
       "\n",
       "    .dataframe thead th {\n",
       "        text-align: right;\n",
       "    }\n",
       "</style>\n",
       "<table border=\"1\" class=\"dataframe\">\n",
       "  <thead>\n",
       "    <tr style=\"text-align: right;\">\n",
       "      <th></th>\n",
       "      <th>epoch0</th>\n",
       "      <th>epoch1</th>\n",
       "      <th>epoch2</th>\n",
       "      <th>epoch3</th>\n",
       "      <th>epoch4</th>\n",
       "      <th>epoch5</th>\n",
       "      <th>epoch6</th>\n",
       "      <th>epoch7</th>\n",
       "      <th>epoch8</th>\n",
       "      <th>epoch9</th>\n",
       "      <th>epoch10</th>\n",
       "    </tr>\n",
       "  </thead>\n",
       "  <tbody>\n",
       "    <tr>\n",
       "      <th>0</th>\n",
       "      <td>0.8699671</td>\n",
       "      <td>0.98833203</td>\n",
       "      <td>0.9926481</td>\n",
       "      <td>0.99376416</td>\n",
       "      <td>0.99427867</td>\n",
       "      <td>0.99456596</td>\n",
       "      <td>0.9956118</td>\n",
       "      <td>0.99569803</td>\n",
       "      <td>0.9958357</td>\n",
       "      <td>0.9961384</td>\n",
       "      <td>0.9961781</td>\n",
       "    </tr>\n",
       "    <tr>\n",
       "      <th>1</th>\n",
       "      <td>0.5573836</td>\n",
       "      <td>0.8062528</td>\n",
       "      <td>0.871258</td>\n",
       "      <td>0.89060366</td>\n",
       "      <td>0.8977493</td>\n",
       "      <td>0.89701796</td>\n",
       "      <td>0.9049185</td>\n",
       "      <td>0.90464646</td>\n",
       "      <td>0.9077218</td>\n",
       "      <td>0.91438866</td>\n",
       "      <td>0.91603595</td>\n",
       "    </tr>\n",
       "    <tr>\n",
       "      <th>2</th>\n",
       "      <td>0.48940098</td>\n",
       "      <td>0.7556914</td>\n",
       "      <td>0.8301257</td>\n",
       "      <td>0.8514989</td>\n",
       "      <td>0.8633864</td>\n",
       "      <td>0.85610676</td>\n",
       "      <td>0.87734604</td>\n",
       "      <td>0.8710381</td>\n",
       "      <td>0.8766697</td>\n",
       "      <td>0.8895274</td>\n",
       "      <td>0.8862655</td>\n",
       "    </tr>\n",
       "    <tr>\n",
       "      <th>3</th>\n",
       "      <td>0.57644445</td>\n",
       "      <td>0.8118523</td>\n",
       "      <td>0.8743183</td>\n",
       "      <td>0.89046866</td>\n",
       "      <td>0.8930919</td>\n",
       "      <td>0.8999426</td>\n",
       "      <td>0.90981907</td>\n",
       "      <td>0.9069937</td>\n",
       "      <td>0.9111947</td>\n",
       "      <td>0.91911125</td>\n",
       "      <td>0.9195001</td>\n",
       "    </tr>\n",
       "    <tr>\n",
       "      <th>4</th>\n",
       "      <td>0.46355334</td>\n",
       "      <td>0.7569635</td>\n",
       "      <td>0.8186587</td>\n",
       "      <td>0.8457923</td>\n",
       "      <td>0.8674128</td>\n",
       "      <td>0.8649995</td>\n",
       "      <td>0.877292</td>\n",
       "      <td>0.87640095</td>\n",
       "      <td>0.8790496</td>\n",
       "      <td>0.8897752</td>\n",
       "      <td>0.89187545</td>\n",
       "    </tr>\n",
       "    <tr>\n",
       "      <th>5</th>\n",
       "      <td>0.38251323</td>\n",
       "      <td>0.6403275</td>\n",
       "      <td>0.7428411</td>\n",
       "      <td>0.75869566</td>\n",
       "      <td>0.7703058</td>\n",
       "      <td>0.7880525</td>\n",
       "      <td>0.8274068</td>\n",
       "      <td>0.8207942</td>\n",
       "      <td>0.84917897</td>\n",
       "      <td>0.8570035</td>\n",
       "      <td>0.8597666</td>\n",
       "    </tr>\n",
       "  </tbody>\n",
       "</table>\n",
       "</div>"
      ],
      "text/plain": [
       "       epoch0      epoch1     epoch2      epoch3      epoch4      epoch5  \\\n",
       "0   0.8699671  0.98833203  0.9926481  0.99376416  0.99427867  0.99456596   \n",
       "1   0.5573836   0.8062528   0.871258  0.89060366   0.8977493  0.89701796   \n",
       "2  0.48940098   0.7556914  0.8301257   0.8514989   0.8633864  0.85610676   \n",
       "3  0.57644445   0.8118523  0.8743183  0.89046866   0.8930919   0.8999426   \n",
       "4  0.46355334   0.7569635  0.8186587   0.8457923   0.8674128   0.8649995   \n",
       "5  0.38251323   0.6403275  0.7428411  0.75869566   0.7703058   0.7880525   \n",
       "\n",
       "       epoch6      epoch7      epoch8      epoch9     epoch10  \n",
       "0   0.9956118  0.99569803   0.9958357   0.9961384   0.9961781  \n",
       "1   0.9049185  0.90464646   0.9077218  0.91438866  0.91603595  \n",
       "2  0.87734604   0.8710381   0.8766697   0.8895274   0.8862655  \n",
       "3  0.90981907   0.9069937   0.9111947  0.91911125   0.9195001  \n",
       "4    0.877292  0.87640095   0.8790496   0.8897752  0.89187545  \n",
       "5   0.8274068   0.8207942  0.84917897   0.8570035   0.8597666  "
      ]
     },
     "execution_count": 120,
     "metadata": {},
     "output_type": "execute_result"
    }
   ],
   "source": [
    "train_dice_scores"
   ]
  },
  {
   "cell_type": "code",
   "execution_count": 121,
   "metadata": {},
   "outputs": [
    {
     "data": {
      "text/html": [
       "<div>\n",
       "<style scoped>\n",
       "    .dataframe tbody tr th:only-of-type {\n",
       "        vertical-align: middle;\n",
       "    }\n",
       "\n",
       "    .dataframe tbody tr th {\n",
       "        vertical-align: top;\n",
       "    }\n",
       "\n",
       "    .dataframe thead th {\n",
       "        text-align: right;\n",
       "    }\n",
       "</style>\n",
       "<table border=\"1\" class=\"dataframe\">\n",
       "  <thead>\n",
       "    <tr style=\"text-align: right;\">\n",
       "      <th></th>\n",
       "      <th>epoch0</th>\n",
       "      <th>epoch1</th>\n",
       "      <th>epoch2</th>\n",
       "      <th>epoch3</th>\n",
       "      <th>epoch4</th>\n",
       "      <th>epoch5</th>\n",
       "      <th>epoch6</th>\n",
       "      <th>epoch7</th>\n",
       "      <th>epoch8</th>\n",
       "      <th>epoch9</th>\n",
       "      <th>epoch10</th>\n",
       "    </tr>\n",
       "  </thead>\n",
       "  <tbody>\n",
       "    <tr>\n",
       "      <th>0</th>\n",
       "      <td>0.554786</td>\n",
       "      <td>1.0113795</td>\n",
       "      <td>1.0081421</td>\n",
       "      <td>1.0122659</td>\n",
       "      <td>0.99790215</td>\n",
       "      <td>1.0121449</td>\n",
       "      <td>1.0147493</td>\n",
       "      <td>1.0130744</td>\n",
       "      <td>1.0088322</td>\n",
       "      <td>1.0101182</td>\n",
       "      <td>1.0150393</td>\n",
       "    </tr>\n",
       "    <tr>\n",
       "      <th>1</th>\n",
       "      <td>0.35755643</td>\n",
       "      <td>0.63238364</td>\n",
       "      <td>0.6320676</td>\n",
       "      <td>0.8066707</td>\n",
       "      <td>0.6669382</td>\n",
       "      <td>0.78556734</td>\n",
       "      <td>0.8321068</td>\n",
       "      <td>0.6704709</td>\n",
       "      <td>0.6700158</td>\n",
       "      <td>0.73529065</td>\n",
       "      <td>0.7931835</td>\n",
       "    </tr>\n",
       "    <tr>\n",
       "      <th>2</th>\n",
       "      <td>0.5162262</td>\n",
       "      <td>0.70201164</td>\n",
       "      <td>0.69160295</td>\n",
       "      <td>0.83006483</td>\n",
       "      <td>0.6537641</td>\n",
       "      <td>0.80620074</td>\n",
       "      <td>0.8205641</td>\n",
       "      <td>0.7495216</td>\n",
       "      <td>0.73950714</td>\n",
       "      <td>0.7749947</td>\n",
       "      <td>0.8456539</td>\n",
       "    </tr>\n",
       "    <tr>\n",
       "      <th>3</th>\n",
       "      <td>0.3162604</td>\n",
       "      <td>0.703496</td>\n",
       "      <td>0.72452337</td>\n",
       "      <td>0.77283907</td>\n",
       "      <td>0.7322514</td>\n",
       "      <td>0.8340963</td>\n",
       "      <td>0.83312196</td>\n",
       "      <td>0.8487547</td>\n",
       "      <td>0.62054217</td>\n",
       "      <td>0.85347456</td>\n",
       "      <td>0.8390937</td>\n",
       "    </tr>\n",
       "    <tr>\n",
       "      <th>4</th>\n",
       "      <td>0.5262241</td>\n",
       "      <td>0.7587635</td>\n",
       "      <td>0.74888676</td>\n",
       "      <td>0.8055691</td>\n",
       "      <td>0.6349607</td>\n",
       "      <td>0.74741083</td>\n",
       "      <td>0.81357884</td>\n",
       "      <td>0.8052789</td>\n",
       "      <td>0.70437765</td>\n",
       "      <td>0.76532686</td>\n",
       "      <td>0.82823724</td>\n",
       "    </tr>\n",
       "    <tr>\n",
       "      <th>5</th>\n",
       "      <td>0.079213016</td>\n",
       "      <td>0.6750447</td>\n",
       "      <td>0.7072697</td>\n",
       "      <td>0.72457045</td>\n",
       "      <td>0.30050713</td>\n",
       "      <td>0.8145128</td>\n",
       "      <td>0.7388692</td>\n",
       "      <td>0.80777025</td>\n",
       "      <td>0.69419056</td>\n",
       "      <td>0.84272134</td>\n",
       "      <td>0.8493568</td>\n",
       "    </tr>\n",
       "  </tbody>\n",
       "</table>\n",
       "</div>"
      ],
      "text/plain": [
       "        epoch0      epoch1      epoch2      epoch3      epoch4      epoch5  \\\n",
       "0     0.554786   1.0113795   1.0081421   1.0122659  0.99790215   1.0121449   \n",
       "1   0.35755643  0.63238364   0.6320676   0.8066707   0.6669382  0.78556734   \n",
       "2    0.5162262  0.70201164  0.69160295  0.83006483   0.6537641  0.80620074   \n",
       "3    0.3162604    0.703496  0.72452337  0.77283907   0.7322514   0.8340963   \n",
       "4    0.5262241   0.7587635  0.74888676   0.8055691   0.6349607  0.74741083   \n",
       "5  0.079213016   0.6750447   0.7072697  0.72457045  0.30050713   0.8145128   \n",
       "\n",
       "       epoch6      epoch7      epoch8      epoch9     epoch10  \n",
       "0   1.0147493   1.0130744   1.0088322   1.0101182   1.0150393  \n",
       "1   0.8321068   0.6704709   0.6700158  0.73529065   0.7931835  \n",
       "2   0.8205641   0.7495216  0.73950714   0.7749947   0.8456539  \n",
       "3  0.83312196   0.8487547  0.62054217  0.85347456   0.8390937  \n",
       "4  0.81357884   0.8052789  0.70437765  0.76532686  0.82823724  \n",
       "5   0.7388692  0.80777025  0.69419056  0.84272134   0.8493568  "
      ]
     },
     "execution_count": 121,
     "metadata": {},
     "output_type": "execute_result"
    }
   ],
   "source": [
    "val_dice_scores"
   ]
  },
  {
   "cell_type": "code",
   "execution_count": null,
   "metadata": {},
   "outputs": [],
   "source": []
  }
 ],
 "metadata": {
  "kernelspec": {
   "display_name": "Python 3",
   "language": "python",
   "name": "python3"
  },
  "language_info": {
   "codemirror_mode": {
    "name": "ipython",
    "version": 3
   },
   "file_extension": ".py",
   "mimetype": "text/x-python",
   "name": "python",
   "nbconvert_exporter": "python",
   "pygments_lexer": "ipython3",
   "version": "3.6.4"
  }
 },
 "nbformat": 4,
 "nbformat_minor": 2
}
