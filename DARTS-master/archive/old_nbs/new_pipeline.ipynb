{
 "cells": [
  {
   "cell_type": "code",
   "execution_count": 1,
   "metadata": {},
   "outputs": [],
   "source": [
    "import torch\n",
    "import torch.nn as nn\n",
    "from torch.autograd import Variable\n",
    "import torch.optim as optim\n",
    "import torchvision\n",
    "from torchvision import datasets, models\n",
    "from torchvision import transforms as T\n",
    "from torch.utils.data import DataLoader, Dataset\n",
    "import numpy as np\n",
    "import matplotlib.pyplot as plt\n",
    "import os\n",
    "import time\n",
    "import pandas as pd\n",
    "from skimage import io, transform\n",
    "import matplotlib.image as mpimg\n",
    "from PIL import Image\n",
    "from sklearn.metrics import roc_auc_score\n",
    "import torch.nn.functional as F\n",
    "import scipy\n",
    "import random\n",
    "import pickle\n",
    "import scipy.io as sio\n",
    "\n",
    "import warnings\n",
    "warnings.filterwarnings(\"ignore\")\n",
    "%matplotlib inline\n",
    "plt.ion()\n",
    "\n",
    "from torch.utils.data import Dataset, DataLoader\n",
    "import pandas as pd\n",
    "import os\n",
    "from skimage import io\n",
    "import torch\n",
    "from torchvision import transforms\n",
    "import torchvision\n",
    "from skimage import color\n",
    "from torch.optim import lr_scheduler\n",
    "\n",
    "\n",
    "import nibabel"
   ]
  },
  {
   "cell_type": "code",
   "execution_count": 2,
   "metadata": {},
   "outputs": [],
   "source": [
    "import pickle\n",
    "def pickling(file,path):\n",
    "    pickle.dump(file,open(path,'wb'))\n",
    "def unpickling(path):\n",
    "    file_return=pickle.load(open(path,'rb'))\n",
    "    return file_return"
   ]
  },
  {
   "cell_type": "code",
   "execution_count": 3,
   "metadata": {},
   "outputs": [],
   "source": [
    "available_segments = [  0,   2,   3,   4,   5,   7,   8,  10,  11,  12,  13,  14,  15,\n",
    "        16,  17,  18,  24,  26,  28,  30,  31,  41,  42,  43,  44,  46,\n",
    "        47,  49,  50,  51,  52,  53,  54,  58,  60,  62,  63,  72,  77,\n",
    "        80,  85, 251, 252, 253, 254, 255]"
   ]
  },
  {
   "cell_type": "code",
   "execution_count": 4,
   "metadata": {},
   "outputs": [
    {
     "data": {
      "text/plain": [
       "46"
      ]
     },
     "execution_count": 4,
     "metadata": {},
     "output_type": "execute_result"
    }
   ],
   "source": [
    "len(available_segments)"
   ]
  },
  {
   "cell_type": "code",
   "execution_count": 5,
   "metadata": {},
   "outputs": [],
   "source": [
    "class BrainImages(Dataset):\n",
    "    def __init__(self, image_dir, label_dir, train_data = False, flipping = True, rotation = True, translation = True):\n",
    "        \n",
    "#         rand = np.arange(171008)\n",
    "#         np.random.shuffle(rand)\n",
    "#         rand = rand[:150]\n",
    "#         print(rand)\n",
    "#         self.image_dir = list(unpickling(image_dir))[rand]\n",
    "#         self.label_dir = list(unpickling(label_dir))[rand]\n",
    "        \n",
    "        self.image_dir = image_dir\n",
    "        self.label_dir = label_dir\n",
    "        self.flipping = flipping\n",
    "        self.rotation = rotation\n",
    "        self.translation = translation\n",
    "        self.train_data = train_data\n",
    "\n",
    "    def __len__(self):\n",
    "        return len(self.image_dir)\n",
    "\n",
    "    def __getitem__(self,idx):\n",
    "        image_path = self.image_dir[idx]\n",
    "        aseg_path = self.label_dir[idx]\n",
    "        \n",
    "        img_orig = nibabel.freesurfer.mghformat.MGHImage.from_filename(image_path)\n",
    "        image = img_orig.get_data().astype(np.float64)\n",
    "        aseg_img = nibabel.freesurfer.mghformat.MGHImage.from_filename(aseg_path)\n",
    "        aseg_img = aseg_img.get_data().astype(np.float64)\n",
    "\n",
    "        flip = random.random() > 0.5\n",
    "        angle = random.uniform(-5,5)\n",
    "        dx = np.round(random.uniform(-10,10))\n",
    "        dy = np.round(random.uniform(-10,10))\n",
    "        \n",
    "        im = Image.fromarray(image[0])\n",
    "        target = Image.fromarray(aseg_img[0])\n",
    "        if self.train_data:\n",
    "            if self.flipping and flip:\n",
    "                im = im.transpose(0)\n",
    "                target = target.transpose(0)\n",
    "            if self.rotation:\n",
    "                im = im.rotate(angle)\n",
    "                target = target.rotate(angle)\n",
    "            if self.translation:\n",
    "                im = im.transform((256,256),0, (1,0,dx,0,1,dy))\n",
    "                target = target.transform((256,256),0,(1,0,dx,0,1,dy))\n",
    "                \n",
    "        im = torch.from_numpy(np.array(im, np.float64, copy=False).reshape((1,256,256)))/255\n",
    "        target = np.array(target, np.float64, copy=False)\n",
    "        target_label = np.zeros((46,256,256))\n",
    "        for i,a in enumerate(available_segments):\n",
    "            target_label[i,:,:] = (target==a).astype(int)\n",
    "        target_label = torch.from_numpy(target_label)\n",
    "        sample = {'x':im,'y':target_label} \n",
    "        return sample"
   ]
  },
  {
   "cell_type": "code",
   "execution_count": 6,
   "metadata": {},
   "outputs": [],
   "source": [
    "# torch.from_numpy()\n",
    "rand = np.arange(171008)\n",
    "np.random.shuffle(rand)\n",
    "rand = rand[:150]\n",
    "\n",
    "train_file_names = unpickling(\"/scratch/ark576/train_file_names\")\n",
    "train_label_names = unpickling(\"/scratch/ark576/train_label_names\")\n",
    "rand1 = np.arange(len(train_file_names))\n",
    "np.random.shuffle(rand1)\n",
    "rand1 = rand1[:1000]\n",
    "\n",
    "val_file_names = unpickling(\"/scratch/ark576/val_file_names\")\n",
    "val_label_names = unpickling(\"/scratch/ark576/val_label_names\")\n",
    "rand2 = np.arange(len(val_file_names))\n",
    "np.random.shuffle(rand2)\n",
    "rand2 = rand2[:300]\n",
    "\n",
    "test_file_names = unpickling(\"/scratch/ark576/test_file_names\")\n",
    "test_label_names = unpickling(\"/scratch/ark576/test_label_names\")\n",
    "rand3 = np.arange(len(test_file_names))\n",
    "np.random.shuffle(rand3)\n",
    "rand3 = rand3[:150]\n",
    "\n"
   ]
  },
  {
   "cell_type": "code",
   "execution_count": 7,
   "metadata": {},
   "outputs": [],
   "source": [
    "# transformed_dataset = {'train': BrainImages(\"train_file_names\",\"train_label_names\", train_data= True, flipping=False),\n",
    "#                        'validate': BrainImages(\"val_file_names\",\"val_label_names\"),\n",
    "#                        'test': BrainImages(\"test_file_names\",\"test_label_names\")}\n",
    "transformed_dataset = {'train': BrainImages(np.array(train_file_names)[rand1],np.array(train_label_names)[rand1], train_data= True, flipping=False),\n",
    "                       'validate': BrainImages(np.array(val_file_names)[rand2],np.array(val_label_names)[rand2]),\n",
    "                       'test': BrainImages(np.array(test_file_names)[rand3],np.array(test_label_names)[rand3])\n",
    "                                               }\n",
    "\n",
    "\n",
    "\n",
    "dataloader = {x: DataLoader(transformed_dataset[x], batch_size=18,\n",
    "                        shuffle=True, num_workers=0) for x in ['train', 'validate','test']}\n",
    "data_sizes ={x: len(transformed_dataset[x]) for x in ['train', 'validate','test']}"
   ]
  },
  {
   "cell_type": "code",
   "execution_count": 8,
   "metadata": {},
   "outputs": [],
   "source": [
    "#eg_path = '/scratch/ark576/data-reduced/996782/seperated_images/aseg_images/'"
   ]
  },
  {
   "cell_type": "code",
   "execution_count": 9,
   "metadata": {},
   "outputs": [],
   "source": [
    "#eg_labels = os.listdir(eg_path)"
   ]
  },
  {
   "cell_type": "code",
   "execution_count": 10,
   "metadata": {},
   "outputs": [],
   "source": [
    "#for i in range(len(eg_labels)):\n",
    "#    eg_labels[i] = eg_path+eg_labels[i]"
   ]
  },
  {
   "cell_type": "code",
   "execution_count": 11,
   "metadata": {},
   "outputs": [],
   "source": [
    "# eg_image_path = '/scratch/ark576/data-reduced/996782/seperated_images/t1_images/'\n",
    "# eg_images = os.listdir(eg_image_path)\n",
    "# for i in range(len(eg_images)):\n",
    "#     eg_images[i] = eg_image_path+eg_images[i]"
   ]
  },
  {
   "cell_type": "code",
   "execution_count": 12,
   "metadata": {},
   "outputs": [],
   "source": [
    "# transformed_dataset = {'train': BrainImages(np.array(eg_images),np.array(eg_labels), train_data= True, flipping=False),\n",
    "#                        'validate': BrainImages(np.array(val_file_names)[rand2],np.array(val_label_names)[rand2]),\n",
    "#                        'test': BrainImages(np.array(test_file_names)[rand3],np.array(test_label_names)[rand3])\n",
    "#                                                }\n",
    "\n",
    "\n",
    "\n",
    "# dataloader = {x: DataLoader(transformed_dataset[x], batch_size=15,\n",
    "#                         shuffle=True, num_workers=0) for x in ['train']}\n",
    "# data_sizes ={x: len(transformed_dataset[x]) for x in ['train']}"
   ]
  },
  {
   "cell_type": "code",
   "execution_count": 13,
   "metadata": {},
   "outputs": [],
   "source": [
    "#label_dir = unpickling(\"/scratch/ark576/train_file_names\")"
   ]
  },
  {
   "cell_type": "code",
   "execution_count": 12,
   "metadata": {},
   "outputs": [],
   "source": [
    "#len(label_dir)"
   ]
  },
  {
   "cell_type": "code",
   "execution_count": 13,
   "metadata": {},
   "outputs": [],
   "source": [
    "inputs = next(iter(dataloader['train']))"
   ]
  },
  {
   "cell_type": "code",
   "execution_count": 14,
   "metadata": {},
   "outputs": [],
   "source": [
    "# def imshow(inp):\n",
    "#     \"\"\"Imshow for Tensor.\"\"\"\n",
    "#     inp = inp.numpy().transpose(1,2,0)\n",
    "#     inp = np.clip(inp, 0, 1)\n",
    "#     plt.imshow(inp)"
   ]
  },
  {
   "cell_type": "code",
   "execution_count": 15,
   "metadata": {},
   "outputs": [
    {
     "data": {
      "image/png": "[encoded data removed]",
      "text/plain": [
       "<matplotlib.figure.Figure at 0x2b6accb78cc0>"
      ]
     },
     "metadata": {},
     "output_type": "display_data"
    },
    {
     "data": {
      "image/png": "[encoded data removed]",
      "text/plain": [
       "<matplotlib.figure.Figure at 0x2b6ad082b860>"
      ]
     },
     "metadata": {},
     "output_type": "display_data"
    }
   ],
   "source": [
    "j = 3\n",
    "plt.imshow(inputs['x'][1,0,:,:].numpy())\n",
    "plt.show()\n",
    "plt.imshow(inputs['y'][1,0,:,:].numpy())\n",
    "plt.show()"
   ]
  },
  {
   "cell_type": "code",
   "execution_count": 16,
   "metadata": {},
   "outputs": [],
   "source": [
    "class Downsample_block(nn.Module):\n",
    "    def __init__(self, in_channels, out_channels):\n",
    "        super(Downsample_block, self).__init__()\n",
    "        self.conv1 = nn.Conv2d(in_channels, out_channels, 3, padding=1)\n",
    "        self.bn1 = nn.BatchNorm2d(out_channels)\n",
    "        self.conv2 = nn.Conv2d(out_channels, out_channels, 3, padding=1)\n",
    "        self.bn2 = nn.BatchNorm2d(out_channels)\n",
    "    \n",
    "    def forward(self,x):\n",
    "        x = F.relu(self.bn1(self.conv1(x)))\n",
    "        y = F.relu(self.bn2(self.conv2(x)))\n",
    "        x = F.max_pool2d(y, 2,stride = 2)\n",
    "        \n",
    "        return x, y"
   ]
  },
  {
   "cell_type": "code",
   "execution_count": 17,
   "metadata": {},
   "outputs": [],
   "source": [
    "class Upsample_block(nn.Module):\n",
    "    def __init__(self,in_channels, out_channels):\n",
    "        super(Upsample_block, self).__init__()\n",
    "        self.transconv = nn.ConvTranspose2d(in_channels, out_channels, 4, padding = 1, stride = 2)\n",
    "        self.conv1 = nn.Conv2d(in_channels, out_channels, 3, padding = 1)\n",
    "        self.bn1 = nn.BatchNorm2d(out_channels)\n",
    "        self.conv2 = nn.Conv2d(out_channels, out_channels, 3, padding = 1)\n",
    "        self.bn2 = nn.BatchNorm2d(out_channels)\n",
    "        \n",
    "    def forward(self,x, y):\n",
    "        x = self.transconv(x)\n",
    "        x = torch.cat((x,y),dim = 1)\n",
    "        x = F.relu(self.bn1(self.conv1(x)))\n",
    "        x = F.relu(self.bn2(self.conv2(x)))\n",
    "        \n",
    "        return x"
   ]
  },
  {
   "cell_type": "code",
   "execution_count": 18,
   "metadata": {},
   "outputs": [],
   "source": [
    "class Unet(nn.Module):\n",
    "    def __init__(self):\n",
    "        super(Unet, self).__init__()\n",
    "        self.down1 = Downsample_block(1,64)\n",
    "        self.down2 = Downsample_block(64,128)\n",
    "        self.down3 = Downsample_block(128,256)\n",
    "        self.down4 = Downsample_block(256,512)\n",
    "        self.conv1 = nn.Conv2d(512,1024, 3, padding=1)\n",
    "        self.bn1 = nn.BatchNorm2d(1024)\n",
    "        self.conv2 = nn.Conv2d(1024,1024,3, padding = 1)\n",
    "        self.bn2 = nn.BatchNorm2d(1024)\n",
    "        self.up4 = Upsample_block(1024,512)\n",
    "        self.up3 = Upsample_block(512,256)\n",
    "        self.up2 = Upsample_block(256,128)\n",
    "        self.up1 = Upsample_block(128,64)\n",
    "        self.outconv = nn.Conv2d(64,46, 1)\n",
    "        \n",
    "    def forward(self,x):\n",
    "        x, y1 = self.down1(x)\n",
    "        x, y2 = self.down2(x)\n",
    "        x, y3 = self.down3(x)\n",
    "        x, y4 = self.down4(x)\n",
    "        x = F.dropout2d(F.relu(self.bn1(self.conv1(x))))\n",
    "        x = F.dropout2d(F.relu(self.bn2(self.conv2(x))))\n",
    "        x = self.up4(x, y4)\n",
    "        x = self.up3(x, y3)\n",
    "        x = self.up2(x, y2)\n",
    "        x = self.up1(x, y1)\n",
    "        x = self.outconv(x)\n",
    "        \n",
    "        return x"
   ]
  },
  {
   "cell_type": "code",
   "execution_count": 19,
   "metadata": {},
   "outputs": [],
   "source": [
    "# def dice_loss(true,scores, epsilon = 1e-4):\n",
    "#     preds = F.softmax(scores)\n",
    "#     N, C, sh1, sh2 = true.size()\n",
    "#     true = true.view(N, C, -1)\n",
    "#     preds = preds.view(N, C, -1)\n",
    "#     wts = torch.sum(true, dim = 2) + epsilon\n",
    "# #     print(wts)\n",
    "#     wts = 1/torch.pow(wts,2)\n",
    "#     wts = torch.clamp(wts,0,0.1)\n",
    "#     wts[wts == 0.1] = 0\n",
    "#     wts = wts/Variable(torch.sum(wts,dim = 1).data.unsqueeze_(1))\n",
    "#     print(wts)\n",
    "#     prod = torch.sum(true*preds,dim = 2)\n",
    "#     sum_tnp = torch.sum(true + preds, dim = 2)\n",
    "#     num = torch.sum(wts * prod, dim = 1)\n",
    "#     denom = torch.sum(wts * sum_tnp, dim = 1) + epsilon\n",
    "#     loss = 1 - 2*(num/denom)\n",
    "#     return torch.mean(loss)"
   ]
  },
  {
   "cell_type": "code",
   "execution_count": 20,
   "metadata": {},
   "outputs": [],
   "source": [
    "voxel_count = pd.read_csv('/scratch/ark576/segment_counts.csv')"
   ]
  },
  {
   "cell_type": "code",
   "execution_count": 21,
   "metadata": {},
   "outputs": [],
   "source": [
    "wts_num = np.mean(np.array(voxel_count.iloc[:,available_segments]),axis = 0)"
   ]
  },
  {
   "cell_type": "code",
   "execution_count": 22,
   "metadata": {
    "scrolled": true
   },
   "outputs": [
    {
     "data": {
      "text/plain": [
       "array([  1.55181717e+07,   2.27132558e+05,   2.71765411e+05,\n",
       "         6.20701527e+03,   1.97743037e+02,   1.40333845e+04,\n",
       "         5.66883971e+04,   8.58384546e+03,   3.93285085e+03,\n",
       "         5.57085894e+03,   1.45641330e+03,   7.34502246e+02,\n",
       "         1.62191195e+03,   2.17487646e+04,   4.58532974e+03,\n",
       "         1.62259928e+03,   1.07495148e+03,   5.93299191e+02,\n",
       "         4.35026595e+03,   5.97843666e+01,   1.32094160e+03,\n",
       "         2.34319566e+05,   2.76456036e+05,   5.75684007e+03,\n",
       "         2.13104223e+02,   1.42446190e+04,   5.83411680e+04,\n",
       "         7.62657951e+03,   3.99412040e+03,   5.70409075e+03,\n",
       "         1.51298922e+03,   4.62344924e+03,   1.70840701e+03,\n",
       "         6.55268643e+02,   4.41450494e+03,   6.94510332e+01,\n",
       "         1.43331087e+03,   4.20664870e+00,   9.93678347e+02,\n",
       "         9.23360288e+00,   2.37004492e+02,   9.80229111e+02,\n",
       "         5.00247978e+02,   5.20355795e+02,   5.22881402e+02,\n",
       "         9.22082659e+02])"
      ]
     },
     "execution_count": 22,
     "metadata": {},
     "output_type": "execute_result"
    }
   ],
   "source": [
    "wts_num"
   ]
  },
  {
   "cell_type": "code",
   "execution_count": 23,
   "metadata": {},
   "outputs": [],
   "source": [
    "wts_torch = Variable(torch.from_numpy(wts_num)).cuda()"
   ]
  },
  {
   "cell_type": "code",
   "execution_count": 50,
   "metadata": {},
   "outputs": [],
   "source": [
    "def dice_loss_2(true,scores,mean, epsilon = 1e-4,p = 1):\n",
    "    preds = F.softmax(scores)\n",
    "    N, C, sh1, sh2 = true.size()\n",
    "    true = true.view(N, C, -1)\n",
    "    preds = preds.view(N, C, -1)\n",
    "    wts = torch.sum(true, dim = 2) + epsilon\n",
    "#     print(wts)\n",
    "    mean = 1/torch.pow(mean,p)\n",
    "#     print(wts.size())\n",
    "#     print(mean)\n",
    "#     wts = torch.clamp(wts,0,0.1)\n",
    "    wts[:,:] = mean[None].repeat(N,1)\n",
    "#     wts[:,-1] = 0\n",
    "#     wts[wts == 0.1] = 0\n",
    "    wts = wts/(torch.sum(wts,dim = 1)[:,None])\n",
    "    #print(wts)\n",
    "    prod = torch.sum(true*preds,dim = 2)\n",
    "    sum_tnp = torch.sum(true + preds, dim = 2)\n",
    "    num = torch.sum(wts * prod, dim = 1)\n",
    "    denom = torch.sum(wts * sum_tnp, dim = 1) + epsilon\n",
    "    loss = 1 - 2*(num/denom)\n",
    "    return torch.mean(loss)"
   ]
  },
  {
   "cell_type": "code",
   "execution_count": 51,
   "metadata": {},
   "outputs": [],
   "source": [
    "import time\n",
    "def train_model(model, optimizer,dataloader, data_sizes, batch_size, num_epochs = 100, verbose = False):\n",
    "    since = time.time()\n",
    "    best_loss = np.inf\n",
    "    loss_hist = {'train':[],'validate':[]}\n",
    "    for i in range(num_epochs):\n",
    "        for phase in ['train', 'validate']:\n",
    "            running_loss = 0\n",
    "            if phase == 'train':\n",
    "                model.train(True)\n",
    "            else:\n",
    "                model.train(False)\n",
    "    \n",
    "            for data in dataloader[phase]:\n",
    "                optimizer.zero_grad()\n",
    "                x = data['x']\n",
    "                y = data['y']\n",
    "                x = Variable(x).type(torch.FloatTensor).cuda()\n",
    "                y = Variable(y).type(torch.FloatTensor).cuda()\n",
    "                \n",
    "                output = model(x)\n",
    "                loss = dice_loss_2(y, output,wts_torch)\n",
    "                if phase == 'train':\n",
    "                    loss.backward()\n",
    "                    optimizer.step()\n",
    "                running_loss += loss.data[0] * batch_size\n",
    "            epoch_loss = running_loss/data_sizes[phase]\n",
    "            loss_hist[phase].append(epoch_loss) \n",
    "            if verbose or i%1 == 0:\n",
    "                print('Epoch: {}, Phase: {}, epoch loss: {:.4f}'.format(i,phase,epoch_loss))\n",
    "                print('-'*10)\n",
    "            \n",
    "        if phase == 'validate' and epoch_loss < best_loss:\n",
    "            best_loss = epoch_loss\n",
    "            best_model_wts = model.state_dict() \n",
    "        print(i)\n",
    "    print('-'*50)    \n",
    "    time_elapsed = time.time() - since\n",
    "    print('Training complete in {:.0f}m {:.0f}s'.format(time_elapsed // 60, time_elapsed % 60))\n",
    "    print('Best val dice loss: {:4f}'.format(best_loss))\n",
    "    \n",
    "    model.load_state_dict(best_model_wts)\n",
    "    \n",
    "    return model, loss_hist"
   ]
  },
  {
   "cell_type": "code",
   "execution_count": 42,
   "metadata": {},
   "outputs": [],
   "source": [
    "saved_model = Unet().cuda()"
   ]
  },
  {
   "cell_type": "code",
   "execution_count": 32,
   "metadata": {},
   "outputs": [],
   "source": [
    "model = Unet().cuda()\n",
    "model = nn.DataParallel(model)\n",
    "criterion = dice_loss_2\n",
    "\n",
    "optimizer = optim.Adam(model.parameters(),lr = 1e-4)"
   ]
  },
  {
   "cell_type": "code",
   "execution_count": 33,
   "metadata": {
    "scrolled": true
   },
   "outputs": [
    {
     "name": "stdout",
     "output_type": "stream",
     "text": [
      "Epoch: 0, Phase: train, epoch loss: 1.0080\n",
      "----------\n",
      "Epoch: 0, Phase: validate, epoch loss: 1.0200\n",
      "----------\n",
      "0\n",
      "Epoch: 1, Phase: train, epoch loss: 1.0080\n",
      "----------\n",
      "Epoch: 1, Phase: validate, epoch loss: 1.0200\n",
      "----------\n",
      "1\n",
      "Epoch: 2, Phase: train, epoch loss: 1.0080\n",
      "----------\n",
      "Epoch: 2, Phase: validate, epoch loss: 1.0200\n",
      "----------\n",
      "2\n",
      "Epoch: 3, Phase: train, epoch loss: 1.0080\n",
      "----------\n",
      "Epoch: 3, Phase: validate, epoch loss: 1.0200\n",
      "----------\n",
      "3\n",
      "Epoch: 4, Phase: train, epoch loss: 1.0080\n",
      "----------\n",
      "Epoch: 4, Phase: validate, epoch loss: 1.0200\n",
      "----------\n",
      "4\n",
      "Epoch: 5, Phase: train, epoch loss: 1.0080\n",
      "----------\n",
      "Epoch: 5, Phase: validate, epoch loss: 1.0200\n",
      "----------\n",
      "5\n",
      "Epoch: 6, Phase: train, epoch loss: 1.0080\n",
      "----------\n",
      "Epoch: 6, Phase: validate, epoch loss: 1.0200\n",
      "----------\n",
      "6\n",
      "Epoch: 7, Phase: train, epoch loss: 1.0080\n",
      "----------\n",
      "Epoch: 7, Phase: validate, epoch loss: 1.0200\n",
      "----------\n",
      "7\n",
      "Epoch: 8, Phase: train, epoch loss: 1.0079\n",
      "----------\n",
      "Epoch: 8, Phase: validate, epoch loss: 1.0200\n",
      "----------\n",
      "8\n",
      "Epoch: 9, Phase: train, epoch loss: 1.0079\n",
      "----------\n",
      "Epoch: 9, Phase: validate, epoch loss: 1.0200\n",
      "----------\n",
      "9\n",
      "Epoch: 10, Phase: train, epoch loss: 1.0079\n",
      "----------\n",
      "Epoch: 10, Phase: validate, epoch loss: 1.0200\n",
      "----------\n",
      "10\n",
      "Epoch: 11, Phase: train, epoch loss: 1.0079\n",
      "----------\n",
      "Epoch: 11, Phase: validate, epoch loss: 1.0200\n",
      "----------\n",
      "11\n",
      "Epoch: 12, Phase: train, epoch loss: 1.0079\n",
      "----------\n",
      "Epoch: 12, Phase: validate, epoch loss: 1.0200\n",
      "----------\n",
      "12\n",
      "Epoch: 13, Phase: train, epoch loss: 1.0079\n",
      "----------\n",
      "Epoch: 13, Phase: validate, epoch loss: 1.0200\n",
      "----------\n",
      "13\n",
      "Epoch: 14, Phase: train, epoch loss: 1.0080\n",
      "----------\n",
      "Epoch: 14, Phase: validate, epoch loss: 1.0200\n",
      "----------\n",
      "14\n",
      "Epoch: 15, Phase: train, epoch loss: 1.0080\n",
      "----------\n",
      "Epoch: 15, Phase: validate, epoch loss: 1.0200\n",
      "----------\n",
      "15\n",
      "Epoch: 16, Phase: train, epoch loss: 1.0080\n",
      "----------\n",
      "Epoch: 16, Phase: validate, epoch loss: 1.0200\n",
      "----------\n",
      "16\n",
      "Epoch: 17, Phase: train, epoch loss: 1.0080\n",
      "----------\n",
      "Epoch: 17, Phase: validate, epoch loss: 1.0200\n",
      "----------\n",
      "17\n",
      "Epoch: 18, Phase: train, epoch loss: 1.0080\n",
      "----------\n",
      "Epoch: 18, Phase: validate, epoch loss: 1.0200\n",
      "----------\n",
      "18\n",
      "Epoch: 19, Phase: train, epoch loss: 1.0080\n",
      "----------\n",
      "Epoch: 19, Phase: validate, epoch loss: 1.0200\n",
      "----------\n",
      "19\n",
      "--------------------------------------------------\n",
      "Training complete in 66m 49s\n",
      "Best val dice loss: 1.019956\n"
     ]
    }
   ],
   "source": [
    "model, loss_hist = train_model(model, optimizer,dataloader,data_sizes,18,\n",
    "                                                                num_epochs = 20, verbose = True)"
   ]
  },
  {
   "cell_type": "code",
   "execution_count": 55,
   "metadata": {},
   "outputs": [
    {
     "data": {
      "image/png": "[encoded data removed]",
      "text/plain": [
       "<matplotlib.figure.Figure at 0x2ba216d836a0>"
      ]
     },
     "metadata": {},
     "output_type": "display_data"
    }
   ],
   "source": [
    "plt.plot(loss_hist[\"train\"],label=\"train\")\n",
    "plt.plot(loss_hist[\"validate\"],label = \"validation\")\n",
    "plt.ylabel(\"dice loss\")\n",
    "plt.xlabel(\"epocs\")\n",
    "plt.legend()\n",
    "plt.show()"
   ]
  },
  {
   "cell_type": "code",
   "execution_count": 27,
   "metadata": {},
   "outputs": [],
   "source": [
    "log_df = pd.read_csv(\"log_df.csv\")\n",
    "log_model_detail = pd.read_csv(\"log_model_detail.csv\")\n",
    "# log_df[\"job-model3-train-10000-54lr-15epoc\"] = loss_hist[\"train\"]\n",
    "# log_df[\"job-model3-val-10000-54lr-15epoc\"] = loss_hist[\"validate\"]\n",
    "# log_df.to_csv(\"log_df.csv\",index=False)\n"
   ]
  },
  {
   "cell_type": "code",
   "execution_count": 56,
   "metadata": {},
   "outputs": [],
   "source": [
    "# log_df = pd.DataFrame()\n",
    "# log_df[\"train-model2-60ep-54lr\"] = loss_hist[\"train\"]"
   ]
  },
  {
   "cell_type": "code",
   "execution_count": 115,
   "metadata": {},
   "outputs": [],
   "source": [
    "# log_df[\"val-model2-60epoc-54lr\"] = loss_hist[\"validate\"]\n"
   ]
  },
  {
   "cell_type": "code",
   "execution_count": 122,
   "metadata": {},
   "outputs": [],
   "source": [
    "#log_model_detail = pd.DataFrame(columns=[\"model_name\",\"n_epocs\",\"lr\",\"train_size\",\"val_size\",\"time_to_train\"])"
   ]
  },
  {
   "cell_type": "code",
   "execution_count": 123,
   "metadata": {},
   "outputs": [],
   "source": [
    "#log_model_detail.loc[0] = [\"model2-60epoc-54lr\",60,5e-4,1000,250,\"187m 21s\"]"
   ]
  },
  {
   "cell_type": "code",
   "execution_count": 125,
   "metadata": {},
   "outputs": [],
   "source": [
    "#log_model_detail.loc[1] = [\"job-model3-train-10000-54lr-15epoc\",15,5e-4,10000,500,\"unknown_yet\"] "
   ]
  },
  {
   "cell_type": "code",
   "execution_count": 127,
   "metadata": {},
   "outputs": [],
   "source": [
    "#log_model_detail.to_csv(\"log_model_detail.csv\",index=False)"
   ]
  },
  {
   "cell_type": "code",
   "execution_count": null,
   "metadata": {},
   "outputs": [],
   "source": []
  },
  {
   "cell_type": "code",
   "execution_count": 38,
   "metadata": {},
   "outputs": [
    {
     "data": {
      "text/html": [
       "<div>\n",
       "<style scoped>\n",
       "    .dataframe tbody tr th:only-of-type {\n",
       "        vertical-align: middle;\n",
       "    }\n",
       "\n",
       "    .dataframe tbody tr th {\n",
       "        vertical-align: top;\n",
       "    }\n",
       "\n",
       "    .dataframe thead th {\n",
       "        text-align: right;\n",
       "    }\n",
       "</style>\n",
       "<table border=\"1\" class=\"dataframe\">\n",
       "  <thead>\n",
       "    <tr style=\"text-align: right;\">\n",
       "      <th></th>\n",
       "      <th>model_name</th>\n",
       "      <th>n_epocs</th>\n",
       "      <th>lr</th>\n",
       "      <th>train_size</th>\n",
       "      <th>val_size</th>\n",
       "      <th>time_to_train</th>\n",
       "    </tr>\n",
       "  </thead>\n",
       "  <tbody>\n",
       "    <tr>\n",
       "      <th>0</th>\n",
       "      <td>model2-60epoc-54lr</td>\n",
       "      <td>60</td>\n",
       "      <td>0.0005</td>\n",
       "      <td>1000</td>\n",
       "      <td>250</td>\n",
       "      <td>187m 21s</td>\n",
       "    </tr>\n",
       "    <tr>\n",
       "      <th>1</th>\n",
       "      <td>job-model3-train-10000-54lr-15epoc</td>\n",
       "      <td>60</td>\n",
       "      <td>0.0005</td>\n",
       "      <td>10000</td>\n",
       "      <td>500</td>\n",
       "      <td>1140 m</td>\n",
       "    </tr>\n",
       "  </tbody>\n",
       "</table>\n",
       "</div>"
      ],
      "text/plain": [
       "                           model_name  n_epocs      lr  train_size  val_size  \\\n",
       "0                  model2-60epoc-54lr       60  0.0005        1000       250   \n",
       "1  job-model3-train-10000-54lr-15epoc       60  0.0005       10000       500   \n",
       "\n",
       "  time_to_train  \n",
       "0      187m 21s  \n",
       "1        1140 m  "
      ]
     },
     "execution_count": 38,
     "metadata": {},
     "output_type": "execute_result"
    }
   ],
   "source": [
    "log_model_detail"
   ]
  },
  {
   "cell_type": "code",
   "execution_count": 28,
   "metadata": {},
   "outputs": [
    {
     "data": {
      "text/html": [
       "<div>\n",
       "<style scoped>\n",
       "    .dataframe tbody tr th:only-of-type {\n",
       "        vertical-align: middle;\n",
       "    }\n",
       "\n",
       "    .dataframe tbody tr th {\n",
       "        vertical-align: top;\n",
       "    }\n",
       "\n",
       "    .dataframe thead th {\n",
       "        text-align: right;\n",
       "    }\n",
       "</style>\n",
       "<table border=\"1\" class=\"dataframe\">\n",
       "  <thead>\n",
       "    <tr style=\"text-align: right;\">\n",
       "      <th></th>\n",
       "      <th>train-model2-60ep-54lr</th>\n",
       "      <th>val-model2-60epoc-54lr</th>\n",
       "      <th>job-model3-train-10000-54lr-15epoc</th>\n",
       "      <th>job-model3-val-10000-54lr-15epoc</th>\n",
       "    </tr>\n",
       "  </thead>\n",
       "  <tbody>\n",
       "    <tr>\n",
       "      <th>0</th>\n",
       "      <td>1.007970</td>\n",
       "      <td>1.007959</td>\n",
       "      <td>0.706104</td>\n",
       "      <td>0.382323</td>\n",
       "    </tr>\n",
       "    <tr>\n",
       "      <th>1</th>\n",
       "      <td>1.007850</td>\n",
       "      <td>1.007464</td>\n",
       "      <td>0.365590</td>\n",
       "      <td>0.379418</td>\n",
       "    </tr>\n",
       "    <tr>\n",
       "      <th>2</th>\n",
       "      <td>1.006987</td>\n",
       "      <td>1.006976</td>\n",
       "      <td>0.361220</td>\n",
       "      <td>0.363653</td>\n",
       "    </tr>\n",
       "    <tr>\n",
       "      <th>3</th>\n",
       "      <td>0.998581</td>\n",
       "      <td>0.986278</td>\n",
       "      <td>0.360624</td>\n",
       "      <td>0.360698</td>\n",
       "    </tr>\n",
       "    <tr>\n",
       "      <th>4</th>\n",
       "      <td>0.977035</td>\n",
       "      <td>0.958624</td>\n",
       "      <td>0.360189</td>\n",
       "      <td>0.361771</td>\n",
       "    </tr>\n",
       "    <tr>\n",
       "      <th>5</th>\n",
       "      <td>0.924728</td>\n",
       "      <td>0.932834</td>\n",
       "      <td>0.358533</td>\n",
       "      <td>0.361550</td>\n",
       "    </tr>\n",
       "    <tr>\n",
       "      <th>6</th>\n",
       "      <td>0.785197</td>\n",
       "      <td>0.800749</td>\n",
       "      <td>0.358795</td>\n",
       "      <td>0.360421</td>\n",
       "    </tr>\n",
       "    <tr>\n",
       "      <th>7</th>\n",
       "      <td>0.474804</td>\n",
       "      <td>0.378078</td>\n",
       "      <td>0.359170</td>\n",
       "      <td>0.360012</td>\n",
       "    </tr>\n",
       "    <tr>\n",
       "      <th>8</th>\n",
       "      <td>0.387180</td>\n",
       "      <td>0.363345</td>\n",
       "      <td>0.358171</td>\n",
       "      <td>0.359662</td>\n",
       "    </tr>\n",
       "    <tr>\n",
       "      <th>9</th>\n",
       "      <td>0.384012</td>\n",
       "      <td>0.385188</td>\n",
       "      <td>0.357640</td>\n",
       "      <td>0.360637</td>\n",
       "    </tr>\n",
       "    <tr>\n",
       "      <th>10</th>\n",
       "      <td>0.383234</td>\n",
       "      <td>0.372915</td>\n",
       "      <td>0.357484</td>\n",
       "      <td>0.361119</td>\n",
       "    </tr>\n",
       "    <tr>\n",
       "      <th>11</th>\n",
       "      <td>0.376475</td>\n",
       "      <td>0.361198</td>\n",
       "      <td>0.357182</td>\n",
       "      <td>0.359735</td>\n",
       "    </tr>\n",
       "    <tr>\n",
       "      <th>12</th>\n",
       "      <td>0.377142</td>\n",
       "      <td>0.352079</td>\n",
       "      <td>0.357163</td>\n",
       "      <td>0.369177</td>\n",
       "    </tr>\n",
       "    <tr>\n",
       "      <th>13</th>\n",
       "      <td>0.374907</td>\n",
       "      <td>0.353106</td>\n",
       "      <td>0.356651</td>\n",
       "      <td>0.357468</td>\n",
       "    </tr>\n",
       "    <tr>\n",
       "      <th>14</th>\n",
       "      <td>0.374475</td>\n",
       "      <td>0.353914</td>\n",
       "      <td>0.355502</td>\n",
       "      <td>0.356832</td>\n",
       "    </tr>\n",
       "    <tr>\n",
       "      <th>15</th>\n",
       "      <td>0.374958</td>\n",
       "      <td>0.355542</td>\n",
       "      <td>0.355363</td>\n",
       "      <td>0.358015</td>\n",
       "    </tr>\n",
       "    <tr>\n",
       "      <th>16</th>\n",
       "      <td>0.372300</td>\n",
       "      <td>0.355966</td>\n",
       "      <td>0.355975</td>\n",
       "      <td>0.358989</td>\n",
       "    </tr>\n",
       "    <tr>\n",
       "      <th>17</th>\n",
       "      <td>0.371965</td>\n",
       "      <td>0.354778</td>\n",
       "      <td>0.355124</td>\n",
       "      <td>0.356177</td>\n",
       "    </tr>\n",
       "    <tr>\n",
       "      <th>18</th>\n",
       "      <td>0.372296</td>\n",
       "      <td>0.350584</td>\n",
       "      <td>0.354329</td>\n",
       "      <td>0.355736</td>\n",
       "    </tr>\n",
       "    <tr>\n",
       "      <th>19</th>\n",
       "      <td>0.372710</td>\n",
       "      <td>0.350006</td>\n",
       "      <td>0.353782</td>\n",
       "      <td>0.356663</td>\n",
       "    </tr>\n",
       "    <tr>\n",
       "      <th>20</th>\n",
       "      <td>0.370989</td>\n",
       "      <td>0.353451</td>\n",
       "      <td>0.355133</td>\n",
       "      <td>0.355540</td>\n",
       "    </tr>\n",
       "    <tr>\n",
       "      <th>21</th>\n",
       "      <td>0.373374</td>\n",
       "      <td>0.356381</td>\n",
       "      <td>0.353029</td>\n",
       "      <td>0.364652</td>\n",
       "    </tr>\n",
       "    <tr>\n",
       "      <th>22</th>\n",
       "      <td>0.375813</td>\n",
       "      <td>0.352092</td>\n",
       "      <td>0.353164</td>\n",
       "      <td>0.355495</td>\n",
       "    </tr>\n",
       "    <tr>\n",
       "      <th>23</th>\n",
       "      <td>0.372607</td>\n",
       "      <td>0.352449</td>\n",
       "      <td>0.351914</td>\n",
       "      <td>0.354123</td>\n",
       "    </tr>\n",
       "    <tr>\n",
       "      <th>24</th>\n",
       "      <td>0.372297</td>\n",
       "      <td>0.349357</td>\n",
       "      <td>0.352266</td>\n",
       "      <td>0.356442</td>\n",
       "    </tr>\n",
       "    <tr>\n",
       "      <th>25</th>\n",
       "      <td>0.369650</td>\n",
       "      <td>0.350397</td>\n",
       "      <td>0.352854</td>\n",
       "      <td>0.353567</td>\n",
       "    </tr>\n",
       "    <tr>\n",
       "      <th>26</th>\n",
       "      <td>0.370539</td>\n",
       "      <td>0.352218</td>\n",
       "      <td>0.351727</td>\n",
       "      <td>0.353453</td>\n",
       "    </tr>\n",
       "    <tr>\n",
       "      <th>27</th>\n",
       "      <td>0.369557</td>\n",
       "      <td>0.348460</td>\n",
       "      <td>0.351556</td>\n",
       "      <td>0.356384</td>\n",
       "    </tr>\n",
       "    <tr>\n",
       "      <th>28</th>\n",
       "      <td>0.371474</td>\n",
       "      <td>0.351766</td>\n",
       "      <td>0.350752</td>\n",
       "      <td>0.365281</td>\n",
       "    </tr>\n",
       "    <tr>\n",
       "      <th>29</th>\n",
       "      <td>0.370320</td>\n",
       "      <td>0.348788</td>\n",
       "      <td>0.351129</td>\n",
       "      <td>0.361264</td>\n",
       "    </tr>\n",
       "    <tr>\n",
       "      <th>30</th>\n",
       "      <td>0.371427</td>\n",
       "      <td>0.349371</td>\n",
       "      <td>0.351797</td>\n",
       "      <td>0.352335</td>\n",
       "    </tr>\n",
       "    <tr>\n",
       "      <th>31</th>\n",
       "      <td>0.371089</td>\n",
       "      <td>0.359908</td>\n",
       "      <td>0.350694</td>\n",
       "      <td>0.352168</td>\n",
       "    </tr>\n",
       "    <tr>\n",
       "      <th>32</th>\n",
       "      <td>0.369386</td>\n",
       "      <td>0.347426</td>\n",
       "      <td>0.350801</td>\n",
       "      <td>0.352640</td>\n",
       "    </tr>\n",
       "    <tr>\n",
       "      <th>33</th>\n",
       "      <td>0.370549</td>\n",
       "      <td>0.349871</td>\n",
       "      <td>0.350491</td>\n",
       "      <td>0.353051</td>\n",
       "    </tr>\n",
       "    <tr>\n",
       "      <th>34</th>\n",
       "      <td>0.369001</td>\n",
       "      <td>0.349574</td>\n",
       "      <td>0.350261</td>\n",
       "      <td>0.355156</td>\n",
       "    </tr>\n",
       "    <tr>\n",
       "      <th>35</th>\n",
       "      <td>0.369889</td>\n",
       "      <td>0.389267</td>\n",
       "      <td>0.350077</td>\n",
       "      <td>0.351353</td>\n",
       "    </tr>\n",
       "    <tr>\n",
       "      <th>36</th>\n",
       "      <td>0.369346</td>\n",
       "      <td>0.349080</td>\n",
       "      <td>0.351228</td>\n",
       "      <td>0.353308</td>\n",
       "    </tr>\n",
       "    <tr>\n",
       "      <th>37</th>\n",
       "      <td>0.368355</td>\n",
       "      <td>0.349041</td>\n",
       "      <td>0.350379</td>\n",
       "      <td>0.355838</td>\n",
       "    </tr>\n",
       "    <tr>\n",
       "      <th>38</th>\n",
       "      <td>0.370803</td>\n",
       "      <td>0.346155</td>\n",
       "      <td>0.350101</td>\n",
       "      <td>0.353525</td>\n",
       "    </tr>\n",
       "    <tr>\n",
       "      <th>39</th>\n",
       "      <td>0.370200</td>\n",
       "      <td>0.353078</td>\n",
       "      <td>0.349605</td>\n",
       "      <td>0.351136</td>\n",
       "    </tr>\n",
       "    <tr>\n",
       "      <th>40</th>\n",
       "      <td>0.371502</td>\n",
       "      <td>0.350458</td>\n",
       "      <td>0.349388</td>\n",
       "      <td>0.350755</td>\n",
       "    </tr>\n",
       "    <tr>\n",
       "      <th>41</th>\n",
       "      <td>0.370688</td>\n",
       "      <td>0.345249</td>\n",
       "      <td>0.350076</td>\n",
       "      <td>0.356817</td>\n",
       "    </tr>\n",
       "    <tr>\n",
       "      <th>42</th>\n",
       "      <td>0.367817</td>\n",
       "      <td>0.350509</td>\n",
       "      <td>0.350606</td>\n",
       "      <td>0.352204</td>\n",
       "    </tr>\n",
       "    <tr>\n",
       "      <th>43</th>\n",
       "      <td>0.369664</td>\n",
       "      <td>0.348757</td>\n",
       "      <td>0.348638</td>\n",
       "      <td>0.351746</td>\n",
       "    </tr>\n",
       "    <tr>\n",
       "      <th>44</th>\n",
       "      <td>0.371913</td>\n",
       "      <td>0.347362</td>\n",
       "      <td>0.349703</td>\n",
       "      <td>0.360207</td>\n",
       "    </tr>\n",
       "    <tr>\n",
       "      <th>45</th>\n",
       "      <td>0.367778</td>\n",
       "      <td>0.401588</td>\n",
       "      <td>0.349220</td>\n",
       "      <td>0.355426</td>\n",
       "    </tr>\n",
       "    <tr>\n",
       "      <th>46</th>\n",
       "      <td>0.369170</td>\n",
       "      <td>0.349008</td>\n",
       "      <td>0.350584</td>\n",
       "      <td>0.353424</td>\n",
       "    </tr>\n",
       "    <tr>\n",
       "      <th>47</th>\n",
       "      <td>0.370337</td>\n",
       "      <td>0.347816</td>\n",
       "      <td>0.349292</td>\n",
       "      <td>0.351895</td>\n",
       "    </tr>\n",
       "    <tr>\n",
       "      <th>48</th>\n",
       "      <td>0.370801</td>\n",
       "      <td>0.344163</td>\n",
       "      <td>0.349181</td>\n",
       "      <td>0.353557</td>\n",
       "    </tr>\n",
       "    <tr>\n",
       "      <th>49</th>\n",
       "      <td>0.369536</td>\n",
       "      <td>0.347229</td>\n",
       "      <td>0.349025</td>\n",
       "      <td>0.349792</td>\n",
       "    </tr>\n",
       "    <tr>\n",
       "      <th>50</th>\n",
       "      <td>0.367790</td>\n",
       "      <td>0.347033</td>\n",
       "      <td>0.348707</td>\n",
       "      <td>0.360877</td>\n",
       "    </tr>\n",
       "    <tr>\n",
       "      <th>51</th>\n",
       "      <td>0.368042</td>\n",
       "      <td>0.345114</td>\n",
       "      <td>0.348469</td>\n",
       "      <td>0.359351</td>\n",
       "    </tr>\n",
       "    <tr>\n",
       "      <th>52</th>\n",
       "      <td>0.367641</td>\n",
       "      <td>0.350911</td>\n",
       "      <td>0.348697</td>\n",
       "      <td>0.349794</td>\n",
       "    </tr>\n",
       "    <tr>\n",
       "      <th>53</th>\n",
       "      <td>0.366433</td>\n",
       "      <td>0.346006</td>\n",
       "      <td>0.349362</td>\n",
       "      <td>0.349673</td>\n",
       "    </tr>\n",
       "    <tr>\n",
       "      <th>54</th>\n",
       "      <td>0.368582</td>\n",
       "      <td>0.346947</td>\n",
       "      <td>0.349922</td>\n",
       "      <td>0.351605</td>\n",
       "    </tr>\n",
       "    <tr>\n",
       "      <th>55</th>\n",
       "      <td>0.368840</td>\n",
       "      <td>0.349046</td>\n",
       "      <td>0.349009</td>\n",
       "      <td>0.351368</td>\n",
       "    </tr>\n",
       "    <tr>\n",
       "      <th>56</th>\n",
       "      <td>0.367866</td>\n",
       "      <td>0.349106</td>\n",
       "      <td>0.348107</td>\n",
       "      <td>0.350221</td>\n",
       "    </tr>\n",
       "    <tr>\n",
       "      <th>57</th>\n",
       "      <td>0.366789</td>\n",
       "      <td>0.350222</td>\n",
       "      <td>0.348382</td>\n",
       "      <td>0.349403</td>\n",
       "    </tr>\n",
       "    <tr>\n",
       "      <th>58</th>\n",
       "      <td>0.370200</td>\n",
       "      <td>0.346477</td>\n",
       "      <td>0.347622</td>\n",
       "      <td>0.352270</td>\n",
       "    </tr>\n",
       "    <tr>\n",
       "      <th>59</th>\n",
       "      <td>0.368902</td>\n",
       "      <td>0.348189</td>\n",
       "      <td>0.348469</td>\n",
       "      <td>0.352386</td>\n",
       "    </tr>\n",
       "  </tbody>\n",
       "</table>\n",
       "</div>"
      ],
      "text/plain": [
       "    train-model2-60ep-54lr  val-model2-60epoc-54lr  \\\n",
       "0                 1.007970                1.007959   \n",
       "1                 1.007850                1.007464   \n",
       "2                 1.006987                1.006976   \n",
       "3                 0.998581                0.986278   \n",
       "4                 0.977035                0.958624   \n",
       "5                 0.924728                0.932834   \n",
       "6                 0.785197                0.800749   \n",
       "7                 0.474804                0.378078   \n",
       "8                 0.387180                0.363345   \n",
       "9                 0.384012                0.385188   \n",
       "10                0.383234                0.372915   \n",
       "11                0.376475                0.361198   \n",
       "12                0.377142                0.352079   \n",
       "13                0.374907                0.353106   \n",
       "14                0.374475                0.353914   \n",
       "15                0.374958                0.355542   \n",
       "16                0.372300                0.355966   \n",
       "17                0.371965                0.354778   \n",
       "18                0.372296                0.350584   \n",
       "19                0.372710                0.350006   \n",
       "20                0.370989                0.353451   \n",
       "21                0.373374                0.356381   \n",
       "22                0.375813                0.352092   \n",
       "23                0.372607                0.352449   \n",
       "24                0.372297                0.349357   \n",
       "25                0.369650                0.350397   \n",
       "26                0.370539                0.352218   \n",
       "27                0.369557                0.348460   \n",
       "28                0.371474                0.351766   \n",
       "29                0.370320                0.348788   \n",
       "30                0.371427                0.349371   \n",
       "31                0.371089                0.359908   \n",
       "32                0.369386                0.347426   \n",
       "33                0.370549                0.349871   \n",
       "34                0.369001                0.349574   \n",
       "35                0.369889                0.389267   \n",
       "36                0.369346                0.349080   \n",
       "37                0.368355                0.349041   \n",
       "38                0.370803                0.346155   \n",
       "39                0.370200                0.353078   \n",
       "40                0.371502                0.350458   \n",
       "41                0.370688                0.345249   \n",
       "42                0.367817                0.350509   \n",
       "43                0.369664                0.348757   \n",
       "44                0.371913                0.347362   \n",
       "45                0.367778                0.401588   \n",
       "46                0.369170                0.349008   \n",
       "47                0.370337                0.347816   \n",
       "48                0.370801                0.344163   \n",
       "49                0.369536                0.347229   \n",
       "50                0.367790                0.347033   \n",
       "51                0.368042                0.345114   \n",
       "52                0.367641                0.350911   \n",
       "53                0.366433                0.346006   \n",
       "54                0.368582                0.346947   \n",
       "55                0.368840                0.349046   \n",
       "56                0.367866                0.349106   \n",
       "57                0.366789                0.350222   \n",
       "58                0.370200                0.346477   \n",
       "59                0.368902                0.348189   \n",
       "\n",
       "    job-model3-train-10000-54lr-15epoc  job-model3-val-10000-54lr-15epoc  \n",
       "0                             0.706104                          0.382323  \n",
       "1                             0.365590                          0.379418  \n",
       "2                             0.361220                          0.363653  \n",
       "3                             0.360624                          0.360698  \n",
       "4                             0.360189                          0.361771  \n",
       "5                             0.358533                          0.361550  \n",
       "6                             0.358795                          0.360421  \n",
       "7                             0.359170                          0.360012  \n",
       "8                             0.358171                          0.359662  \n",
       "9                             0.357640                          0.360637  \n",
       "10                            0.357484                          0.361119  \n",
       "11                            0.357182                          0.359735  \n",
       "12                            0.357163                          0.369177  \n",
       "13                            0.356651                          0.357468  \n",
       "14                            0.355502                          0.356832  \n",
       "15                            0.355363                          0.358015  \n",
       "16                            0.355975                          0.358989  \n",
       "17                            0.355124                          0.356177  \n",
       "18                            0.354329                          0.355736  \n",
       "19                            0.353782                          0.356663  \n",
       "20                            0.355133                          0.355540  \n",
       "21                            0.353029                          0.364652  \n",
       "22                            0.353164                          0.355495  \n",
       "23                            0.351914                          0.354123  \n",
       "24                            0.352266                          0.356442  \n",
       "25                            0.352854                          0.353567  \n",
       "26                            0.351727                          0.353453  \n",
       "27                            0.351556                          0.356384  \n",
       "28                            0.350752                          0.365281  \n",
       "29                            0.351129                          0.361264  \n",
       "30                            0.351797                          0.352335  \n",
       "31                            0.350694                          0.352168  \n",
       "32                            0.350801                          0.352640  \n",
       "33                            0.350491                          0.353051  \n",
       "34                            0.350261                          0.355156  \n",
       "35                            0.350077                          0.351353  \n",
       "36                            0.351228                          0.353308  \n",
       "37                            0.350379                          0.355838  \n",
       "38                            0.350101                          0.353525  \n",
       "39                            0.349605                          0.351136  \n",
       "40                            0.349388                          0.350755  \n",
       "41                            0.350076                          0.356817  \n",
       "42                            0.350606                          0.352204  \n",
       "43                            0.348638                          0.351746  \n",
       "44                            0.349703                          0.360207  \n",
       "45                            0.349220                          0.355426  \n",
       "46                            0.350584                          0.353424  \n",
       "47                            0.349292                          0.351895  \n",
       "48                            0.349181                          0.353557  \n",
       "49                            0.349025                          0.349792  \n",
       "50                            0.348707                          0.360877  \n",
       "51                            0.348469                          0.359351  \n",
       "52                            0.348697                          0.349794  \n",
       "53                            0.349362                          0.349673  \n",
       "54                            0.349922                          0.351605  \n",
       "55                            0.349009                          0.351368  \n",
       "56                            0.348107                          0.350221  \n",
       "57                            0.348382                          0.349403  \n",
       "58                            0.347622                          0.352270  \n",
       "59                            0.348469                          0.352386  "
      ]
     },
     "execution_count": 28,
     "metadata": {},
     "output_type": "execute_result"
    }
   ],
   "source": [
    "log_df"
   ]
  },
  {
   "cell_type": "code",
   "execution_count": 55,
   "metadata": {},
   "outputs": [
    {
     "data": {
      "image/png": "[encoded data removed]",
      "text/plain": [
       "<matplotlib.figure.Figure at 0x2b6ae1d21a90>"
      ]
     },
     "metadata": {},
     "output_type": "display_data"
    }
   ],
   "source": [
    "plt.plot(log_df[\"train-model2-60ep-54lr\"],label=\"train\")\n",
    "plt.plot(log_df[\"val-model2-60epoc-54lr\"],label=\"val\")\n",
    "plt.legend()\n",
    "plt.show()"
   ]
  },
  {
   "cell_type": "code",
   "execution_count": 56,
   "metadata": {},
   "outputs": [
    {
     "data": {
      "text/plain": [
       "0.3441625964641571"
      ]
     },
     "execution_count": 56,
     "metadata": {},
     "output_type": "execute_result"
    }
   ],
   "source": [
    "min(log_df[\"val-model2-60epoc-54lr\"])"
   ]
  },
  {
   "cell_type": "code",
   "execution_count": 82,
   "metadata": {},
   "outputs": [],
   "source": [
    "#log_df.to_csv(\"log_df.csv\",index=False)"
   ]
  },
  {
   "cell_type": "code",
   "execution_count": 60,
   "metadata": {},
   "outputs": [],
   "source": [
    "# optimizer = optim.Adam(model.parameters(),lr = 1e-5)\n",
    "# model, loss_hist = train_model(model, optimizer,dataloader,data_sizes,5,\n",
    "#                                                                 num_epochs = 25, verbose = True)"
   ]
  },
  {
   "cell_type": "code",
   "execution_count": 43,
   "metadata": {},
   "outputs": [],
   "source": [
    "# pickling(model,\"model1-50ep-15lr\")\n",
    "torch.save(model,'model2-60epoc-54lr')"
   ]
  },
  {
   "cell_type": "code",
   "execution_count": 48,
   "metadata": {},
   "outputs": [],
   "source": [
    "#torch.load(\"model2-60epoc-54lr\")"
   ]
  },
  {
   "cell_type": "code",
   "execution_count": 52,
   "metadata": {},
   "outputs": [],
   "source": [
    "saved_model = Unet().cuda()\n",
    "saved_model = nn.DataParallel(saved_model)"
   ]
  },
  {
   "cell_type": "code",
   "execution_count": 57,
   "metadata": {},
   "outputs": [],
   "source": [
    "saved_model = torch.load(\"model2-60epoc-54lr\")"
   ]
  },
  {
   "cell_type": "code",
   "execution_count": 80,
   "metadata": {},
   "outputs": [],
   "source": [
    "data = next(iter(dataloader[\"validate\"]))"
   ]
  },
  {
   "cell_type": "code",
   "execution_count": 81,
   "metadata": {},
   "outputs": [],
   "source": [
    "saved_model.train(False)\n",
    "x = data['x']\n",
    "y = data['y']\n",
    "x = Variable(x).type(torch.FloatTensor).cuda()\n",
    "y = Variable(y).type(torch.FloatTensor).cuda()\n",
    "                \n",
    "output = saved_model(x)\n",
    "\n"
   ]
  },
  {
   "cell_type": "code",
   "execution_count": 60,
   "metadata": {},
   "outputs": [
    {
     "name": "stdout",
     "output_type": "stream",
     "text": [
      "torch.Size([18, 46, 256, 256])\n",
      "torch.Size([18, 46, 256, 256])\n"
     ]
    }
   ],
   "source": [
    "print(data['y'].size())\n",
    "print(output.size())"
   ]
  },
  {
   "cell_type": "code",
   "execution_count": 61,
   "metadata": {},
   "outputs": [],
   "source": [
    "def visualize(image, class_viz, title):\n",
    "    p = F.softmax(image)\n",
    "    p_maxim = torch.max(p, dim=0)[1]\n",
    "    masked = (p_maxim==class_viz).data.type(torch.cuda.FloatTensor)\n",
    "    plt.title(title)\n",
    "    plt.imshow(masked[:,:].cpu().numpy())"
   ]
  },
  {
   "cell_type": "code",
   "execution_count": 67,
   "metadata": {},
   "outputs": [
    {
     "data": {
      "image/png": "[encoded data removed]",
      "text/plain": [
       "<matplotlib.figure.Figure at 0x2b6ae287c390>"
      ]
     },
     "metadata": {},
     "output_type": "display_data"
    }
   ],
   "source": [
    "visualize(data['y'][1,:,:,:],0,\"actual image\")"
   ]
  },
  {
   "cell_type": "code",
   "execution_count": 68,
   "metadata": {},
   "outputs": [
    {
     "data": {
      "image/png": "[encoded data removed]",
      "text/plain": [
       "<matplotlib.figure.Figure at 0x2b6ae2100a20>"
      ]
     },
     "metadata": {},
     "output_type": "display_data"
    }
   ],
   "source": [
    "visualize(output[1,:,:,:],0,\"predicted mask\")"
   ]
  },
  {
   "cell_type": "code",
   "execution_count": 72,
   "metadata": {},
   "outputs": [
    {
     "data": {
      "image/png": "[encoded data removed]",
      "text/plain": [
       "<matplotlib.figure.Figure at 0x2b6ae29cbb38>"
      ]
     },
     "metadata": {},
     "output_type": "display_data"
    }
   ],
   "source": [
    "visualize(data['y'][1,:,:,:],2,\"actual image\")"
   ]
  },
  {
   "cell_type": "code",
   "execution_count": 86,
   "metadata": {},
   "outputs": [
    {
     "data": {
      "image/png": "[encoded data removed]",
      "text/plain": [
       "<matplotlib.figure.Figure at 0x2b6ae3e625f8>"
      ]
     },
     "metadata": {},
     "output_type": "display_data"
    }
   ],
   "source": [
    "visualize(data['y'][3,:,:,:],0,\"actual image\")"
   ]
  },
  {
   "cell_type": "code",
   "execution_count": 94,
   "metadata": {},
   "outputs": [
    {
     "data": {
      "image/png": "[encoded data removed]",
      "text/plain": [
       "<matplotlib.figure.Figure at 0x2b6ae2c7e7b8>"
      ]
     },
     "metadata": {},
     "output_type": "display_data"
    }
   ],
   "source": [
    "visualize(output[3,:,:,:],0,\"predicted mask\")"
   ]
  },
  {
   "cell_type": "code",
   "execution_count": 98,
   "metadata": {},
   "outputs": [
    {
     "data": {
      "image/png": "[encoded data removed]",
      "text/plain": [
       "<matplotlib.figure.Figure at 0x2b6ae28e3128>"
      ]
     },
     "metadata": {},
     "output_type": "display_data"
    }
   ],
   "source": [
    "visualize(data['y'][4,:,:,:],2,\"actual image\")"
   ]
  },
  {
   "cell_type": "code",
   "execution_count": 99,
   "metadata": {},
   "outputs": [
    {
     "data": {
      "image/png": "[encoded data removed]",
      "text/plain": [
       "<matplotlib.figure.Figure at 0x2b6ae1af7128>"
      ]
     },
     "metadata": {},
     "output_type": "display_data"
    }
   ],
   "source": [
    "visualize(output[4,:,:,:],2,\"predicted mask\")"
   ]
  },
  {
   "cell_type": "code",
   "execution_count": 80,
   "metadata": {},
   "outputs": [],
   "source": [
    "#visualize(data['y'][10,:,:,:],17)"
   ]
  },
  {
   "cell_type": "code",
   "execution_count": 81,
   "metadata": {
    "scrolled": true
   },
   "outputs": [],
   "source": [
    "#plt.imshow(output[10,0,:,:].data.cpu().numpy())"
   ]
  },
  {
   "cell_type": "code",
   "execution_count": null,
   "metadata": {},
   "outputs": [],
   "source": []
  }
 ],
 "metadata": {
  "kernelspec": {
   "display_name": "Python 3",
   "language": "python",
   "name": "python3"
  },
  "language_info": {
   "codemirror_mode": {
    "name": "ipython",
    "version": 3
   },
   "file_extension": ".py",
   "mimetype": "text/x-python",
   "name": "python",
   "nbconvert_exporter": "python",
   "pygments_lexer": "ipython3",
   "version": "3.6.3"
  }
 },
 "nbformat": 4,
 "nbformat_minor": 2
}
